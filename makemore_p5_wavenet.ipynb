{
 "cells": [
  {
   "attachments": {},
   "cell_type": "markdown",
   "metadata": {},
   "source": [
    "## makemore: part 5"
   ]
  },
  {
   "attachments": {},
   "cell_type": "markdown",
   "metadata": {},
   "source": [
    "In this notebook we will be looking to improve on our previous work where we used a simple network that concatenated the previous n characters to generate the next character. We hit a wall with this approach due to the limit in its complexity. We will now take inspiration from the WaveNet paper and implement a similar network to see if we can improve on our previous results. \n",
    "\n",
    "The WaveNet paper can be found here: https://arxiv.org/pdf/1609.03499.pdf\n",
    "\n",
    "The paper proposed an autoregressive model to generate audio waveforms. So, we will take the same approach and use the same network to generate text.\n",
    "\n",
    "But first, let's improve and clean up our previous code from part 3."
   ]
  },
  {
   "cell_type": "code",
   "execution_count": 1,
   "metadata": {},
   "outputs": [],
   "source": [
    "import torch\n",
    "import torch.nn.functional as F\n",
    "import matplotlib.pyplot as plt\n",
    "%matplotlib inline"
   ]
  },
  {
   "cell_type": "code",
   "execution_count": 8,
   "metadata": {},
   "outputs": [
    {
     "name": "stdout",
     "output_type": "stream",
     "text": [
      "32033\n",
      "15\n",
      "['emma', 'olivia', 'ava', 'isabella', 'sophia', 'charlotte', 'mia', 'amelia']\n"
     ]
    }
   ],
   "source": [
    "# read in our data\n",
    "with open('names.txt') as f:\n",
    "    words = f.read().splitlines()\n",
    "\n",
    "print(len(words))\n",
    "print(max(len(w) for w in words))\n",
    "print(words[:8])"
   ]
  },
  {
   "cell_type": "code",
   "execution_count": 9,
   "metadata": {},
   "outputs": [
    {
     "name": "stdout",
     "output_type": "stream",
     "text": [
      "{1: 'a', 2: 'l', 3: 'x', 4: 'f', 5: 'o', 6: 't', 7: 'w', 8: 'y', 9: 'p', 10: 'b', 11: 'u', 12: 'j', 13: 'd', 14: 'h', 15: 'e', 16: 'g', 17: 'z', 18: 'r', 19: 's', 20: 'c', 21: 'q', 22: 'k', 23: 'i', 24: 'n', 25: 'v', 26: 'm', 0: '.'}\n",
      "27\n"
     ]
    }
   ],
   "source": [
    "# create a dictionary of all the characters in our dataset\n",
    "chars = set(''.join(words))\n",
    "ctoi = {c: i+1 for i, c in enumerate(chars)}\n",
    "ctoi['.'] = 0\n",
    "itoc = {i: c for c, i in ctoi.items()}\n",
    "vocab_size = len(itoc)\n",
    "print(itoc)\n",
    "print(vocab_size)"
   ]
  },
  {
   "cell_type": "code",
   "execution_count": 10,
   "metadata": {},
   "outputs": [],
   "source": [
    "import random\n",
    "\n",
    "random.seed(42) # set the random seed for reproducibility\n",
    "random.shuffle(words)"
   ]
  },
  {
   "cell_type": "code",
   "execution_count": 11,
   "metadata": {},
   "outputs": [],
   "source": [
    "block_size = 3\n",
    "\n",
    "def split_dataset(train_size=0.8, val_size=0.1, test_size=0.1):\n",
    "    assert train_size + val_size + test_size == 1, 'train_size + val_size + test_size must equal 1'\n",
    "    train_idx = int(len(words) * train_size)\n",
    "    val_idx = int(len(words) * (train_size+val_size))\n",
    "    return words[:train_idx], words[train_idx:val_idx], words[val_idx:]\n",
    "\n",
    "def build_dataset(dataset, n=3):\n",
    "    X, Y = [], []\n",
    "    for word in dataset:\n",
    "        context = [0] * n\n",
    "        for c in word + '.':\n",
    "            X.append(context)\n",
    "            Y.append(ctoi[c])\n",
    "            context = context[1:] + [ctoi[c]]\n",
    "\n",
    "    return torch.tensor(X), torch.tensor(Y)\n",
    "\n",
    "# generate out datasets\n",
    "train_dataset, val_dataset, test_dataset = split_dataset()\n",
    "Xtr, Ytr = build_dataset(train_dataset, n=block_size)\n",
    "Xdev, Ydev = build_dataset(val_dataset, n=block_size)\n",
    "Xte, Yte = build_dataset(test_dataset, n=block_size)"
   ]
  },
  {
   "cell_type": "code",
   "execution_count": 12,
   "metadata": {},
   "outputs": [
    {
     "name": "stdout",
     "output_type": "stream",
     "text": [
      "... --> y\n",
      "..y --> u\n",
      ".yu --> h\n",
      "yuh --> e\n",
      "uhe --> n\n",
      "hen --> g\n",
      "eng --> .\n",
      "... --> d\n",
      "..d --> i\n",
      ".di --> o\n",
      "dio --> n\n",
      "ion --> d\n",
      "ond --> r\n",
      "ndr --> e\n",
      "dre --> .\n",
      "... --> x\n",
      "..x --> a\n",
      ".xa --> v\n",
      "xav --> i\n",
      "avi --> e\n"
     ]
    }
   ],
   "source": [
    "for x, y in zip(Xtr[:20], Ytr[:20]):\n",
    "    print(''.join(itoc[ix.item()] for ix in x), '-->', itoc[y.item()])"
   ]
  },
  {
   "attachments": {},
   "cell_type": "markdown",
   "metadata": {},
   "source": [
    "We previously had classes for a Linear, BatchNorm1d, and a Tanh Layer. However, we also need an Embedding, and Flatten class. We can also introduce a Sequential class to make it easier to create our network. This will be similar to the Sequential class in PyTorch which acts a container."
   ]
  },
  {
   "cell_type": "code",
   "execution_count": 41,
   "metadata": {},
   "outputs": [],
   "source": [
    "class Linear:\n",
    "\n",
    "    def __init__(self, fan_in, fan_out, bias=True):\n",
    "        self.weight = torch.randn((fan_in, fan_out)) / fan_in**0.5\n",
    "        self.bias = torch.zeros(fan_out) if bias else None\n",
    "\n",
    "    def __call__(self, x):\n",
    "        self.out = x @ self.weight\n",
    "        if self.bias is not None:\n",
    "            self.out += self.bias\n",
    "        return self.out\n",
    "    \n",
    "    def parameters(self):\n",
    "        return [self.weight] + ([] if self.bias is None else [self.bias])\n",
    "    \n",
    "class BatchNorm1d:\n",
    "\n",
    "    def __init__(self, dim, eps=1e-5, momentum=0.1):\n",
    "        self.eps = eps\n",
    "        self.momentum = momentum\n",
    "        self.training = True\n",
    "\n",
    "        # trainable params\n",
    "        self.gain = torch.ones(dim)\n",
    "        self.bias = torch.zeros(dim)\n",
    "\n",
    "        # running statistic means\n",
    "        self.running_mean = torch.zeros(dim)\n",
    "        self.running_var = torch.ones(dim)\n",
    "\n",
    "    def __call__(self, x):\n",
    "        if self.training:\n",
    "            batch_mean = x.mean(0, keepdim=True)\n",
    "            batch_var = x.var(0, keepdim=True, unbiased=True)\n",
    "        else:\n",
    "            batch_mean = self.running_mean\n",
    "            batch_var = self.running_var\n",
    "\n",
    "        # normalize batch\n",
    "        self.out = self.gain * ((x - batch_mean) / torch.sqrt(batch_var + self.eps)) + self.bias\n",
    "\n",
    "        if self.training:\n",
    "            # update running statistics\n",
    "            with torch.no_grad():\n",
    "                self.running_mean = (1 - self.momentum) * self.running_mean + self.momentum * batch_mean\n",
    "                self.running_var = (1 - self.momentum) * self.running_var + self.momentum * batch_var\n",
    "\n",
    "        return self.out\n",
    "    \n",
    "    def parameters(self):\n",
    "        return [self.gain, self.bias]\n",
    "    \n",
    "class Tanh:\n",
    "    \n",
    "    def __call__(self, x):\n",
    "        self.out = torch.tanh(x)\n",
    "        return self.out\n",
    "    \n",
    "    def parameters(self):\n",
    "        return []\n",
    "    \n",
    "class Embedding:\n",
    "\n",
    "    def __init__(self, num_embeddings, embedding_dim):\n",
    "        self.weight = torch.randn((num_embeddings, embedding_dim))\n",
    "\n",
    "    def __call__(self, x):\n",
    "        self.out = self.weight[x]\n",
    "        return self.out\n",
    "\n",
    "    def parameters(self):\n",
    "        return [self.weight]\n",
    "    \n",
    "class Flatten:\n",
    "\n",
    "    def __call__(self, x):\n",
    "        self.out = x.view(x.shape[0], -1)\n",
    "        return self.out\n",
    "    \n",
    "    def parameters(self):\n",
    "        return []\n",
    "    \n",
    "class Sequential:\n",
    "\n",
    "    def __init__(self, layers):\n",
    "        self.layers = layers\n",
    "\n",
    "    def __call__(self, x):\n",
    "        for layer in self.layers:\n",
    "            x = layer(x)\n",
    "\n",
    "        self.out = x\n",
    "        return self.out\n",
    "    \n",
    "    def parameters(self):\n",
    "        return [p for layer in self.layers for p in layer.parameters()]"
   ]
  },
  {
   "cell_type": "code",
   "execution_count": 48,
   "metadata": {},
   "outputs": [],
   "source": [
    "@torch.no_grad()\n",
    "def split_loss(model, split):\n",
    "    x, y = {\n",
    "        'train': (Xtr, Ytr),\n",
    "        'val': (Xdev, Ydev),\n",
    "        'test': (Xte, Yte),\n",
    "    }[split]\n",
    "    logits = model(x)\n",
    "    loss = torch.nn.functional.cross_entropy(logits, y)\n",
    "    print(f'{split} loss: {loss.item():.3f}')"
   ]
  },
  {
   "cell_type": "code",
   "execution_count": 42,
   "metadata": {},
   "outputs": [
    {
     "data": {
      "text/plain": [
       "<torch._C.Generator at 0x1e915832770>"
      ]
     },
     "execution_count": 42,
     "metadata": {},
     "output_type": "execute_result"
    }
   ],
   "source": [
    "torch.manual_seed(42)"
   ]
  },
  {
   "cell_type": "code",
   "execution_count": 43,
   "metadata": {},
   "outputs": [
    {
     "name": "stdout",
     "output_type": "stream",
     "text": [
      "12297 trainable parameters\n"
     ]
    }
   ],
   "source": [
    "n_embed = 10\n",
    "n_hidden = 200\n",
    "\n",
    "model = Sequential([\n",
    "    Embedding(vocab_size, n_embed), Flatten(),\n",
    "    Linear(n_embed*block_size, n_hidden), BatchNorm1d(n_hidden), Tanh(),\n",
    "    Linear(n_hidden, vocab_size)\n",
    "])\n",
    "\n",
    "with torch.no_grad():\n",
    "    model.layers[-1].weight *= 0.1\n",
    "\n",
    "parameters = model.parameters()\n",
    "print(f'{sum(p.nelement() for p in parameters)} trainable parameters')\n",
    "\n",
    "for p in parameters:\n",
    "    p.requires_grad = True"
   ]
  },
  {
   "attachments": {},
   "cell_type": "markdown",
   "metadata": {},
   "source": [
    "Now using the new setup, we need to fix the forward pass of our network. We also need to fix the plotting of the loss function. Currently, we are plotting the loss at every step, instead it would be better to plot the average loss over a number of steps. This will make it easier to see the trend of the loss function."
   ]
  },
  {
   "cell_type": "code",
   "execution_count": 44,
   "metadata": {},
   "outputs": [
    {
     "name": "stdout",
     "output_type": "stream",
     "text": [
      "      0/ 200000: train loss 3.3225\n",
      "  10000/ 200000: train loss 2.3086\n",
      "  20000/ 200000: train loss 2.3685\n",
      "  30000/ 200000: train loss 1.9535\n",
      "  40000/ 200000: train loss 2.2853\n",
      "  50000/ 200000: train loss 2.2123\n",
      "  60000/ 200000: train loss 1.9856\n",
      "  70000/ 200000: train loss 1.9415\n",
      "  80000/ 200000: train loss 2.7265\n",
      "  90000/ 200000: train loss 2.0473\n",
      " 100000/ 200000: train loss 2.3309\n",
      " 110000/ 200000: train loss 1.6408\n",
      " 120000/ 200000: train loss 2.1397\n",
      " 130000/ 200000: train loss 2.2131\n",
      " 140000/ 200000: train loss 2.1660\n",
      " 150000/ 200000: train loss 1.9526\n",
      " 160000/ 200000: train loss 1.8818\n",
      " 170000/ 200000: train loss 2.2094\n",
      " 180000/ 200000: train loss 2.0724\n",
      " 190000/ 200000: train loss 2.2456\n"
     ]
    }
   ],
   "source": [
    "max_steps = 200000\n",
    "batch_size = 32\n",
    "train_losses = []\n",
    "\n",
    "for step in range(max_steps):\n",
    "\n",
    "    idx = torch.randint(0, Xtr.shape[0], (batch_size,))\n",
    "    Xb, Yb = Xtr[idx], Ytr[idx]\n",
    "\n",
    "    # forward pass\n",
    "    x = Xb\n",
    "\n",
    "    logits = model(x)\n",
    "\n",
    "    loss = F.cross_entropy(logits, Yb) # compute loss\n",
    "\n",
    "    # backward pass\n",
    "    for param in parameters:\n",
    "        param.grad = None\n",
    "\n",
    "    loss.backward()\n",
    "\n",
    "    # update parameters\n",
    "    lr = 0.1 if step < 150000 else 0.01\n",
    "    for param in parameters:\n",
    "        param.data -= lr * param.grad\n",
    "\n",
    "    if step % 10000 == 0:\n",
    "        print(f'{step:7d}/{max_steps:7d}: train loss {loss:.4f}')\n",
    "\n",
    "    train_losses.append(loss.item())"
   ]
  },
  {
   "cell_type": "code",
   "execution_count": 32,
   "metadata": {},
   "outputs": [
    {
     "data": {
      "image/png": "[encoded data removed]",
      "text/plain": [
       "<Figure size 640x480 with 1 Axes>"
      ]
     },
     "metadata": {},
     "output_type": "display_data"
    }
   ],
   "source": [
    "plt.plot(torch.tensor(train_losses).view(-1, 1000).mean(1));"
   ]
  },
  {
   "cell_type": "code",
   "execution_count": 45,
   "metadata": {},
   "outputs": [],
   "source": [
    "for layer in model.layers:\n",
    "    layer.training = False"
   ]
  },
  {
   "cell_type": "code",
   "execution_count": 50,
   "metadata": {},
   "outputs": [
    {
     "name": "stdout",
     "output_type": "stream",
     "text": [
      "train loss: 2.061\n",
      "val loss: 2.107\n"
     ]
    }
   ],
   "source": [
    "split_loss(model, 'train')\n",
    "split_loss(model, 'val')"
   ]
  },
  {
   "attachments": {},
   "cell_type": "markdown",
   "metadata": {},
   "source": [
    "Now that we have our baseline performance, let's see what we get when we simply increase the context size to 8."
   ]
  },
  {
   "cell_type": "code",
   "execution_count": 51,
   "metadata": {},
   "outputs": [],
   "source": [
    "block_size = 8\n",
    "\n",
    "Xtr, Ytr = build_dataset(train_dataset, n=block_size)\n",
    "Xdev, Ydev = build_dataset(val_dataset, n=block_size)\n",
    "Xte, Yte = build_dataset(test_dataset, n=block_size)"
   ]
  },
  {
   "cell_type": "code",
   "execution_count": 66,
   "metadata": {},
   "outputs": [
    {
     "name": "stdout",
     "output_type": "stream",
     "text": [
      "........ --> y\n",
      ".......y --> u\n",
      "......yu --> h\n",
      ".....yuh --> e\n",
      "....yuhe --> n\n",
      "...yuhen --> g\n",
      "..yuheng --> .\n",
      "........ --> d\n",
      ".......d --> i\n",
      "......di --> o\n",
      ".....dio --> n\n",
      "....dion --> d\n",
      "...diond --> r\n",
      "..diondr --> e\n",
      ".diondre --> .\n",
      "........ --> x\n",
      ".......x --> a\n",
      "......xa --> v\n",
      ".....xav --> i\n",
      "....xavi --> e\n"
     ]
    }
   ],
   "source": [
    "for x, y in zip(Xtr[:20], Ytr[:20]):\n",
    "    print(''.join(itoc[i.item()] for i in x), '-->', itoc[y.item()])"
   ]
  },
  {
   "cell_type": "code",
   "execution_count": 67,
   "metadata": {},
   "outputs": [
    {
     "name": "stdout",
     "output_type": "stream",
     "text": [
      "22297 trainable parameters\n"
     ]
    }
   ],
   "source": [
    "n_embed = 10\n",
    "n_hidden = 200\n",
    "\n",
    "model = Sequential([\n",
    "    Embedding(vocab_size, n_embed), Flatten(),\n",
    "    Linear(n_embed*block_size, n_hidden), BatchNorm1d(n_hidden), Tanh(),\n",
    "    Linear(n_hidden, vocab_size)\n",
    "])\n",
    "\n",
    "with torch.no_grad():\n",
    "    model.layers[-1].weight *= 0.1\n",
    "\n",
    "parameters = model.parameters()\n",
    "print(f'{sum(p.nelement() for p in parameters)} trainable parameters')\n",
    "\n",
    "for p in parameters:\n",
    "    p.requires_grad = True"
   ]
  },
  {
   "cell_type": "code",
   "execution_count": 68,
   "metadata": {},
   "outputs": [
    {
     "name": "stdout",
     "output_type": "stream",
     "text": [
      "      0/ 200000: train loss 3.2901\n",
      "  10000/ 200000: train loss 2.3623\n",
      "  20000/ 200000: train loss 2.3460\n",
      "  30000/ 200000: train loss 1.8886\n",
      "  40000/ 200000: train loss 2.1189\n",
      "  50000/ 200000: train loss 2.0927\n",
      "  60000/ 200000: train loss 1.9501\n",
      "  70000/ 200000: train loss 2.2514\n",
      "  80000/ 200000: train loss 1.5391\n",
      "  90000/ 200000: train loss 1.7722\n",
      " 100000/ 200000: train loss 1.6624\n",
      " 110000/ 200000: train loss 2.5347\n",
      " 120000/ 200000: train loss 2.2462\n",
      " 130000/ 200000: train loss 2.1772\n",
      " 140000/ 200000: train loss 1.9713\n",
      " 150000/ 200000: train loss 2.2761\n",
      " 160000/ 200000: train loss 1.6839\n",
      " 170000/ 200000: train loss 1.7229\n",
      " 180000/ 200000: train loss 2.0824\n",
      " 190000/ 200000: train loss 1.9093\n"
     ]
    }
   ],
   "source": [
    "max_steps = 200000\n",
    "batch_size = 32\n",
    "train_losses = []\n",
    "\n",
    "for step in range(max_steps):\n",
    "\n",
    "    idx = torch.randint(0, Xtr.shape[0], (batch_size,))\n",
    "    Xb, Yb = Xtr[idx], Ytr[idx]\n",
    "\n",
    "    # forward pass\n",
    "    x = Xb\n",
    "\n",
    "    logits = model(x)\n",
    "\n",
    "    loss = F.cross_entropy(logits, Yb) # compute loss\n",
    "\n",
    "    # backward pass\n",
    "    for param in parameters:\n",
    "        param.grad = None\n",
    "\n",
    "    loss.backward()\n",
    "\n",
    "    # update parameters\n",
    "    lr = 0.1 if step < 150000 else 0.01\n",
    "    for param in parameters:\n",
    "        param.data -= lr * param.grad\n",
    "\n",
    "    if step % 10000 == 0:\n",
    "        print(f'{step:7d}/{max_steps:7d}: train loss {loss:.4f}')\n",
    "\n",
    "    train_losses.append(loss.item())"
   ]
  },
  {
   "cell_type": "code",
   "execution_count": 69,
   "metadata": {},
   "outputs": [
    {
     "data": {
      "image/png": "[encoded data removed]",
      "text/plain": [
       "<Figure size 640x480 with 1 Axes>"
      ]
     },
     "metadata": {},
     "output_type": "display_data"
    }
   ],
   "source": [
    "plt.plot(torch.tensor(train_losses).view(-1, 1000).mean(1));"
   ]
  },
  {
   "cell_type": "code",
   "execution_count": 70,
   "metadata": {},
   "outputs": [],
   "source": [
    "for layer in model.layers:\n",
    "    layer.training = False"
   ]
  },
  {
   "cell_type": "code",
   "execution_count": 71,
   "metadata": {},
   "outputs": [
    {
     "name": "stdout",
     "output_type": "stream",
     "text": [
      "train loss: 1.922\n",
      "val loss: 2.028\n"
     ]
    }
   ],
   "source": [
    "split_loss(model, 'train')\n",
    "split_loss(model, 'val')"
   ]
  },
  {
   "attachments": {},
   "cell_type": "markdown",
   "metadata": {},
   "source": [
    "So we see an improvement in the loss and model just by increasing the context size. However, the main issue appears to be that we are squashing too much information together at once and using it to predict the next character. This is where the WaveNet paper offers a different approach. Instead of squashing all the information together at once, we can attempt to squash it together in a more controlled manner. This is done by squashing 2 characters together to obtain a sort of bigram representation. Then we can squash 2 bigram representations together to obtain a quadgram representation. We can continue this process until we have a representation of the entire sequence, and use that to predict the next character.\n",
    "\n",
    "To do this we need to modify our Flatten layer or create a new layer that will offer this control. We will create a new layer called a Concatenate layer, this will allow us to concatenate the previous n characters together. We also need to modify the BatchNorm1d layer to allow for finding the batch statistics over more than one dimension."
   ]
  },
  {
   "cell_type": "code",
   "execution_count": 101,
   "metadata": {},
   "outputs": [],
   "source": [
    "class Concatenate:\n",
    "\n",
    "    def __init__(self, n):\n",
    "        self.n = n\n",
    "\n",
    "    def __call__(self, x):\n",
    "        B, L, C = x.shape\n",
    "        self.out = x.view(B, L//self.n, C*self.n)\n",
    "        if L//self.n == 1:\n",
    "            self.out = self.out.squeeze(1)\n",
    "\n",
    "        return self.out\n",
    "    \n",
    "    def parameters(self):\n",
    "        return []\n",
    "    \n",
    "class BatchNorm1d:\n",
    "\n",
    "    def __init__(self, dim, eps=1e-5, momentum=0.1):\n",
    "        self.eps = eps\n",
    "        self.momentum = momentum\n",
    "        self.training = True\n",
    "\n",
    "        # trainable params\n",
    "        self.gain = torch.ones(dim)\n",
    "        self.bias = torch.zeros(dim)\n",
    "\n",
    "        # running statistic means\n",
    "        self.running_mean = torch.zeros(dim)\n",
    "        self.running_var = torch.ones(dim)\n",
    "\n",
    "    def __call__(self, x):            \n",
    "        if self.training:\n",
    "            if x.ndim == 2:\n",
    "                dim = (0)\n",
    "            elif x.ndim == 3:\n",
    "                dim = (0, 1)\n",
    "                \n",
    "            batch_mean = x.mean(dim, keepdim=True)\n",
    "            batch_var = x.var(dim, keepdim=True, unbiased=True)\n",
    "        else:\n",
    "            batch_mean = self.running_mean\n",
    "            batch_var = self.running_var\n",
    "\n",
    "        # normalize batch\n",
    "        self.out = self.gain * ((x - batch_mean) / torch.sqrt(batch_var + self.eps)) + self.bias\n",
    "\n",
    "        if self.training:\n",
    "            # update running statistics\n",
    "            with torch.no_grad():\n",
    "                self.running_mean = (1 - self.momentum) * self.running_mean + self.momentum * batch_mean\n",
    "                self.running_var = (1 - self.momentum) * self.running_var + self.momentum * batch_var\n",
    "\n",
    "        return self.out\n",
    "    \n",
    "    def parameters(self):\n",
    "        return [self.gain, self.bias]"
   ]
  },
  {
   "attachments": {},
   "cell_type": "markdown",
   "metadata": {},
   "source": [
    "We can now build our network using the new layer implementations. We will also adjust the n_hidden parameter to get the same number of parameters as our previous network. This way we can offer a comparison betweent the two networks."
   ]
  },
  {
   "cell_type": "code",
   "execution_count": 102,
   "metadata": {},
   "outputs": [
    {
     "name": "stdout",
     "output_type": "stream",
     "text": [
      "22397 trainable parameters\n"
     ]
    }
   ],
   "source": [
    "n_embed = 10\n",
    "n_hidden = 68\n",
    "\n",
    "model = Sequential([\n",
    "    Embedding(vocab_size, n_embed),\n",
    "    Concatenate(2), Linear(n_embed*2, n_hidden, bias=False), BatchNorm1d(n_hidden), Tanh(),\n",
    "    Concatenate(2), Linear(n_hidden*2, n_hidden, bias=False), BatchNorm1d(n_hidden), Tanh(),\n",
    "    Concatenate(2), Linear(n_hidden*2, n_hidden, bias=False), BatchNorm1d(n_hidden), Tanh(),\n",
    "    Linear(n_hidden, vocab_size)\n",
    "])\n",
    "\n",
    "with torch.no_grad():\n",
    "    model.layers[-1].weight *= 0.1\n",
    "\n",
    "parameters = model.parameters()\n",
    "print(f'{sum(p.nelement() for p in parameters)} trainable parameters')\n",
    "\n",
    "for p in parameters:\n",
    "    p.requires_grad = True"
   ]
  },
  {
   "cell_type": "code",
   "execution_count": 103,
   "metadata": {},
   "outputs": [
    {
     "name": "stdout",
     "output_type": "stream",
     "text": [
      "      0/ 200000: train loss 3.3167\n",
      "  10000/ 200000: train loss 2.0439\n",
      "  20000/ 200000: train loss 1.9957\n",
      "  30000/ 200000: train loss 1.9609\n",
      "  40000/ 200000: train loss 1.9019\n",
      "  50000/ 200000: train loss 1.8457\n",
      "  60000/ 200000: train loss 2.1169\n",
      "  70000/ 200000: train loss 2.1033\n",
      "  80000/ 200000: train loss 2.0373\n",
      "  90000/ 200000: train loss 2.0720\n",
      " 100000/ 200000: train loss 2.0810\n",
      " 110000/ 200000: train loss 2.1349\n",
      " 120000/ 200000: train loss 1.9854\n",
      " 130000/ 200000: train loss 2.0554\n",
      " 140000/ 200000: train loss 1.8688\n",
      " 150000/ 200000: train loss 1.8602\n",
      " 160000/ 200000: train loss 1.9268\n",
      " 170000/ 200000: train loss 1.8692\n",
      " 180000/ 200000: train loss 2.1043\n",
      " 190000/ 200000: train loss 1.5575\n"
     ]
    }
   ],
   "source": [
    "max_steps = 200000\n",
    "batch_size = 32\n",
    "train_losses = []\n",
    "\n",
    "for step in range(max_steps):\n",
    "\n",
    "    idx = torch.randint(0, Xtr.shape[0], (batch_size,))\n",
    "    Xb, Yb = Xtr[idx], Ytr[idx]\n",
    "\n",
    "    # forward pass\n",
    "    x = Xb\n",
    "\n",
    "    logits = model(x)\n",
    "\n",
    "    loss = F.cross_entropy(logits, Yb) # compute loss\n",
    "\n",
    "    # backward pass\n",
    "    for param in parameters:\n",
    "        param.grad = None\n",
    "\n",
    "    loss.backward()\n",
    "\n",
    "    # update parameters\n",
    "    lr = 0.1 if step < 150000 else 0.01\n",
    "    for param in parameters:\n",
    "        param.data -= lr * param.grad\n",
    "\n",
    "    if step % 10000 == 0:\n",
    "        print(f'{step:7d}/{max_steps:7d}: train loss {loss:.4f}')\n",
    "\n",
    "    train_losses.append(loss.item())"
   ]
  },
  {
   "cell_type": "code",
   "execution_count": 104,
   "metadata": {},
   "outputs": [
    {
     "data": {
      "image/png": "[encoded data removed]",
      "text/plain": [
       "<Figure size 640x480 with 1 Axes>"
      ]
     },
     "metadata": {},
     "output_type": "display_data"
    }
   ],
   "source": [
    "plt.plot(torch.tensor(train_losses).view(-1, 1000).mean(1));"
   ]
  },
  {
   "cell_type": "code",
   "execution_count": 105,
   "metadata": {},
   "outputs": [],
   "source": [
    "for layer in model.layers:\n",
    "    layer.training = False"
   ]
  },
  {
   "cell_type": "code",
   "execution_count": 106,
   "metadata": {},
   "outputs": [
    {
     "name": "stdout",
     "output_type": "stream",
     "text": [
      "train loss: 1.910\n",
      "val loss: 2.024\n"
     ]
    }
   ],
   "source": [
    "split_loss(model, 'train')\n",
    "split_loss(model, 'val')"
   ]
  },
  {
   "attachments": {},
   "cell_type": "markdown",
   "metadata": {},
   "source": [
    "### performance log\n",
    "\n",
    "- original (3 character context, 200 hidden neurons, 12K params): train: 2.061, val: 2.107\n",
    "- context: 3 -> 8 (22K params): train: 1.922, val: 2.028\n",
    "- flat -> hierarchical (22K params): train: 1.910, val: 2.024"
   ]
  },
  {
   "cell_type": "code",
   "execution_count": null,
   "metadata": {},
   "outputs": [],
   "source": [
    "for _ in range(20):\n",
    "    context = [0]*3\n",
    "    word = ''\n",
    "    while True:\n",
    "        logits = model(x)\n",
    "        p = F.softmax(logits, dim=1)\n",
    "        ix = torch.multinomial(p, num_samples=1).item()\n",
    "        if ix == 0:\n",
    "            break\n",
    "        word += itoc[ix]\n",
    "        context = context[1:] + [ix]\n",
    "    print(word)"
   ]
  },
  {
   "attachments": {},
   "cell_type": "markdown",
   "metadata": {},
   "source": [
    "# Exercises\n",
    "- Play with hyperparameters to see if you can improve the performance of the network.\n",
    "- Try to implement hierarchical structure using dilated causal convolutions instead of the Concatenate layer.\n",
    "- Try to implement more complicated WaveNet architecture with residual connections and gated activations."
   ]
  }
 ],
 "metadata": {
  "kernelspec": {
   "display_name": "deep_learning",
   "language": "python",
   "name": "python3"
  },
  "language_info": {
   "codemirror_mode": {
    "name": "ipython",
    "version": 3
   },
   "file_extension": ".py",
   "mimetype": "text/x-python",
   "name": "python",
   "nbconvert_exporter": "python",
   "pygments_lexer": "ipython3",
   "version": "3.10.4"
  },
  "orig_nbformat": 4
 },
 "nbformat": 4,
 "nbformat_minor": 2
}
