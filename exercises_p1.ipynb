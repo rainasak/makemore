{
 "cells": [
  {
   "cell_type": "markdown",
   "metadata": {},
   "source": [
    "# Exercises"
   ]
  },
  {
   "cell_type": "markdown",
   "metadata": {},
   "source": [
    "<font size='4'>\n",
    "Lets start by improving on the bigram frequency model by implementing a generic n-gram model.\n",
    "</font>"
   ]
  },
  {
   "cell_type": "code",
   "execution_count": 1,
   "metadata": {},
   "outputs": [],
   "source": [
    "with open('names.txt') as f:\n",
    "\twords = f.read().splitlines()"
   ]
  },
  {
   "cell_type": "code",
   "execution_count": 2,
   "metadata": {},
   "outputs": [],
   "source": [
    "import torch"
   ]
  },
  {
   "cell_type": "code",
   "execution_count": 5,
   "metadata": {},
   "outputs": [],
   "source": [
    "class ngram:\n",
    "\t\"\"\"\n",
    "\tn-gram model using counting to train and generate new words.\n",
    "\t\"\"\"\n",
    "\n",
    "\tdef __init__(self, n: int = 1):\n",
    "\t\t\"\"\"\n",
    "\t\tInitialize the instance by setting _train to False.\n",
    "\t\t\"\"\"\n",
    "\t\tself._train = False\n",
    "\t\tself.n = n\n",
    "\n",
    "\tdef train(self, data, smoothing: int = 0):\n",
    "\t\t\"\"\"\n",
    "\t\tMethod to train the model given a list of words, the size of the context to be used, and smoothing.\n",
    "\t\tArguments:\n",
    "\t\t\tdata: list of words to be used for training\n",
    "\t\t\tn: integer that is size of context to be used to predict next character\n",
    "\t\t\tsmoothing: integer that is false count added to all elements\n",
    "\t\tReturns:\n",
    "\t\t\tNone\n",
    "\t\t\"\"\"\n",
    "\t\tself.smoothing = smoothing\n",
    "\t\tself.ctoi = {c: i+1 for i, c in enumerate(sorted(list(set(''.join(data)))))}\n",
    "\t\tself.ctoi['.'] = 0\n",
    "\t\tself.itoc = {i: c for c, i in self.ctoi.items()}\n",
    "\t\tself.context_indices = lambda x: self.ctoi[x]\n",
    "\t\tself.N = torch.zeros([len(self.ctoi)] * (self.n+1), dtype=torch.int32)\n",
    "\t\tself.N += smoothing\n",
    "\n",
    "\t\tfor word in data:\n",
    "\t\t\tcontext = ['.']*self.n\n",
    "\t\t\tfor char in word + '.':\n",
    "\t\t\t\tindices = tuple(map(self.context_indices, context))\n",
    "\t\t\t\tself.N[indices][self.ctoi[char]] += 1\n",
    "\t\t\t\tcontext = context[1:] + [char]\n",
    "\n",
    "\t\tself.P = self.N / self.N.sum(dim=self.n, keepdim=True)\n",
    "\t\tself._train = True\n",
    "\n",
    "\tdef eval(self, data) -> float:\n",
    "\t\t\"\"\"\n",
    "\t\tMethod to evaluate performance of the trained model using the negative log-likelihood function.\n",
    "\t\tArguments:\n",
    "\t\t\tdata: list of strings to evaluate the performance of the model on.\n",
    "\t\tReturns:\n",
    "\t\t\taverage negative log-likelihood calculated over whole dataset\n",
    "\t\t\"\"\"\n",
    "\t\tif self._train is None:\n",
    "\t\t\tprint(\"Model must be trained first\")\n",
    "\t\t\treturn\n",
    "\n",
    "\t\tnll = 0\n",
    "\t\tn = 0\n",
    "\t\tfor word in data:\n",
    "\t\t\tcontext = ['.']*self.n\n",
    "\t\t\tfor char in word + '.':\n",
    "\t\t\t\tindices = tuple(map(self.context_indices, context))\n",
    "\t\t\t\tidx = self.ctoi[char]\n",
    "\t\t\t\tp = self.P[indices] # probabilities of all characters to follow context (conditioning on context)\n",
    "\t\t\t\tnll += -torch.log(p[idx])\n",
    "\t\t\t\tn += 1\n",
    "\t\t\t\tcontext = context[1:] + [char]\n",
    "\n",
    "\t\tprint(f\"Loss of {self.n+1}-gram model with smoothing of {self.smoothing}: {nll.item()/n}\")\n",
    "\t\treturn nll.item()/n\n",
    "\n",
    "\tdef generate(self, n, generator=None):\n",
    "\t\t\"\"\" Generate n new things from the trained model. Can make it deterministic, by setting generator to True\n",
    "\t\tOtherwise can leave generator as None or provide own generator. \"\"\"\n",
    "\n",
    "\t\tif self._train is None:\n",
    "\t\t\tprint(\"Model must be trained first\")\n",
    "\t\t\treturn\n",
    "\n",
    "\t\tif isinstance(generator, bool) and generator:\n",
    "\t\t\tgenerator = torch.Generator().manual_seed(2147483647)\n",
    "\t\telif not isinstance(generator, torch.Generator):\n",
    "\t\t\tgenerator = None\n",
    "\t\t\n",
    "\t\tfor _ in range(n):\n",
    "\t\t\tcontext = ['.']*self.n\n",
    "\t\t\tword = ''\n",
    "\t\t\twhile True:\n",
    "\t\t\t\tindices = tuple(map(self.context_indices, context))\n",
    "\t\t\t\tprobs = self.P[indices]\n",
    "\t\t\t\tchoice = torch.multinomial(probs, 1, replacement=True, generator=generator).item()\n",
    "\t\t\t\tif choice == 0:\n",
    "\t\t\t\t\tbreak\n",
    "\t\t\t\tword += self.itoc[choice]\n",
    "\t\t\t\tcontext = context[1:] + [self.itoc[choice]]\n",
    "\t\t\tprint(word)"
   ]
  },
  {
   "cell_type": "markdown",
   "metadata": {},
   "source": [
    "We can now compare a bunch of n-gram models and their performance."
   ]
  },
  {
   "cell_type": "code",
   "execution_count": 6,
   "metadata": {},
   "outputs": [
    {
     "name": "stdout",
     "output_type": "stream",
     "text": [
      "Loss of 2-gram model with smoothing of 0: 2.454094088872915\n",
      "Loss of 3-gram model with smoothing of 0: 2.1856520879173864\n",
      "Loss of 4-gram model with smoothing of 0: 1.8840234159266436\n",
      "Loss of 5-gram model with smoothing of 0: 1.6055300114838744\n",
      "Loss of 6-gram model with smoothing of 0: 1.477782867111411\n"
     ]
    }
   ],
   "source": [
    "losses = []\n",
    "\n",
    "for i in range(1, 6):\n",
    "\tmodel = ngram(i)\n",
    "\tmodel.train(words)\n",
    "\tlosses.append(model.eval(words))"
   ]
  },
  {
   "cell_type": "code",
   "execution_count": 7,
   "metadata": {},
   "outputs": [
    {
     "data": {
      "text/plain": [
       "[<matplotlib.axis.XTick at 0x227652c2d10>,\n",
       " <matplotlib.axis.XTick at 0x227652c2ce0>,\n",
       " <matplotlib.axis.XTick at 0x2276530fac0>,\n",
       " <matplotlib.axis.XTick at 0x227653783d0>,\n",
       " <matplotlib.axis.XTick at 0x22765378cd0>]"
      ]
     },
     "execution_count": 7,
     "metadata": {},
     "output_type": "execute_result"
    },
    {
     "data": {
      "image/png": "[encoded data removed]",
      "text/plain": [
       "<Figure size 640x480 with 1 Axes>"
      ]
     },
     "metadata": {},
     "output_type": "display_data"
    }
   ],
   "source": [
    "import seaborn as sns\n",
    "\n",
    "ax = sns.lineplot(x=list(range(2, 7)), y=losses, marker=\"o\")\n",
    "ax.set(xlabel=\"n-gram model\", ylabel=\"NLL\")\n",
    "ax.set_xticks(list(range(2,7)))"
   ]
  },
  {
   "cell_type": "markdown",
   "metadata": {},
   "source": [
    "We see that the larger models perform better as they have more prior information when picking the next letter. Beyond 6-gram models, the space requirements grow too large, so we're going to limit them till there."
   ]
  },
  {
   "cell_type": "markdown",
   "metadata": {},
   "source": [
    "<font size='4'>\n",
    "Lets now do the same, but use a neural network architecture. Firstly we need to construct the dataset and labels.\n",
    "</font>"
   ]
  },
  {
   "cell_type": "code",
   "execution_count": 65,
   "metadata": {},
   "outputs": [],
   "source": [
    "from itertools import product\n",
    "\n",
    "class Dataset:\n",
    "\tdef __init__(self, data):\n",
    "\t\tself.characterSet = set(''.join(data))\n",
    "\t\tself.characterSet.add('.')\n",
    "\t\tself.ctoi = {c: i for i, c in enumerate(sorted(list(self.characterSet)))}\n",
    "\t\tself.itoc = {i: c for c, i in self.ctoi.items()}\n",
    "\n",
    "\tdef get_data(self, n):\n",
    "\t\tself.encoded = {c: i for i, c in enumerate(product(sorted(list(set(self.characterSet))), repeat=n))}\n",
    "\t\tself.decoded = lambda x: self.encoded[x]\n",
    "\t\tx, y = [], []\n",
    "\t\tfor word in words:\n",
    "\t\t\tcontext = [\".\"]*n\n",
    "\t\t\tfor char in word + \".\":\n",
    "\t\t\t\tx.append(self.decoded(tuple(context)))\n",
    "\t\t\t\ty.append(self.ctoi[char])\n",
    "\t\t\t\tcontext = context[1:] + [char]\n",
    "\t\tself.train_data = (x, y)"
   ]
  },
  {
   "cell_type": "code",
   "execution_count": 12,
   "metadata": {},
   "outputs": [],
   "source": [
    "dataset = Dataset(words)"
   ]
  },
  {
   "cell_type": "markdown",
   "metadata": {},
   "source": [
    "We now need create a generalized one layer neural net without an activation function."
   ]
  },
  {
   "cell_type": "code",
   "execution_count": 26,
   "metadata": {},
   "outputs": [],
   "source": [
    "import torch.nn.functional as F\n",
    "from math import exp"
   ]
  },
  {
   "cell_type": "code",
   "execution_count": 81,
   "metadata": {},
   "outputs": [],
   "source": [
    "from typing import List, Union\n",
    "\n",
    "class ngramNN:\n",
    "\t\"\"\"\n",
    "\tGeneric neural net based class for next character prediction using a single layer of 27 neurons\n",
    "\tand no activation function.\n",
    "\t\"\"\"\n",
    "\n",
    "\tdef __init__(self, n, dataset: Dataset):\n",
    "\t\t\"\"\"\n",
    "\t\tInitialize the generic neural net\n",
    "\t\tArguments:\n",
    "\t\t\tn: integer that is the size of the context\n",
    "\t\t\"\"\"\n",
    "\t\tself.n = n\n",
    "\t\tself.w = None\n",
    "\t\tself.dataset = dataset\n",
    "\n",
    "\tdef train(self, iterations: int, start_lr: float, end_lr: float, reg_strength: Union[bool, float] = 0.01, generator=None):\n",
    "\t\t\"\"\"\n",
    "\t\tMethod to train the neural net given the data and labels, how many iterations to train for, learning rate\n",
    "\t\tregularization strength.\n",
    "\t\tArguments:\n",
    "\t\t\tx_train: torch.Tensor containing all training data points for each update\n",
    "\t\t\ty_train: torch.Tensor containing all training labels for corresponding data points\n",
    "\t\t\titerations: integer for number of update steps\n",
    "\t\t\tlr: float to determine update step size\n",
    "\t\t\treg_strength: float to determine effect of regularization\n",
    "\t\t\"\"\"\n",
    "\t\tif isinstance(reg_strength, bool):\n",
    "\t\t\tif reg_strength:\n",
    "\t\t\t\tself.reg_strength = 0.01\n",
    "\t\t\telse:\n",
    "\t\t\t\tself.reg_strength = 0.0\n",
    "\t\telse:\n",
    "\t\t\tself.reg_strength = reg_strength\n",
    "\n",
    "\t\tif isinstance(generator, bool) and generator:\n",
    "\t\t\tgenerator = torch.Generator().manual_seed(2147483647)\n",
    "\t\telif not isinstance(generator, torch.Generator):\n",
    "\t\t\tgenerator = None\n",
    "\n",
    "\t\tx, y = self.dataset.train_data\n",
    "\t\tx_train, y_train = torch.tensor(x, dtype=torch.int64), torch.tensor(y, dtype=torch.int64)\n",
    "\n",
    "\t\tif not self.w:\n",
    "\t\t\tself.w = torch.randn((len(self.dataset.encoded), 27), generator=generator, dtype=torch.float32, requires_grad=True)\n",
    "\n",
    "\t\tlr = start_lr\n",
    "\t\tlr_Step = (end_lr - start_lr) / iterations\n",
    "\n",
    "\t\tfor i in range(iterations):\n",
    "\t\t\t# forward step\n",
    "\t\t\tlogits = self.w[x_train]\n",
    "\t\t\tcount = logits.exp()\n",
    "\t\t\tprobs = count / count.sum(dim=1, keepdim=True)\n",
    "\t\t\tloss = -probs[torch.arange(y_train.nelement()), y_train].log().mean() + reg_strength * (self.w.data**2).mean()\n",
    "\n",
    "\t\t\t# backward step\n",
    "\t\t\tself.w.grad = None\n",
    "\t\t\tloss.backward()\n",
    "\n",
    "\t\t\t# update step\n",
    "\t\t\tself.w.data += -lr*self.w.grad\n",
    "\t\t\tlr += lr_Step\n",
    "\n",
    "\t\t\t#print(f\"{loss=}\")\n",
    "\t\t\t\n",
    "\tdef eval(self, x = None, y = None):\n",
    "\t\t\"\"\"\n",
    "\t\tMethod to evaluate the model on given data\n",
    "\t\tArguments:\n",
    "\t\t\tx_test: torch.Tensor containing all test data\n",
    "\t\t\ty_test: torch.Tensor containing all corresponding labels\n",
    "\t\tReturns:\n",
    "\t\t\tmean negative log-likelihood of model over test data\n",
    "\t\t\"\"\"\n",
    "\t\tif not x:\n",
    "\t\t\tx, y = self.dataset.train_data\n",
    "\t\t\n",
    "\t\tx_test, y_test = torch.tensor(x, dtype=torch.int64), torch.tensor(y, dtype=torch.int64)\n",
    "\t\tlogits = self.w[x_test]\n",
    "\t\tcount = logits.exp()\n",
    "\t\tprobs = count / count.sum(dim=1, keepdim=True)\n",
    "\t\tnll = -probs[torch.arange(y_test.nelement()), y_test].log().mean()  + self.reg_strength * (self.w.data**2).mean()\n",
    "\n",
    "\t\tprint(f\"Loss of {self.n+1}-gram neural net model: {nll.item()}\")\n",
    "\t\treturn nll.item()\n",
    "\n",
    "\tdef __call__(self, x: Union[str, List[str], List[int]]):\n",
    "\t\tif isinstance(x, str):\n",
    "\t\t\tx = str.split()\n",
    "\n",
    "\t\tif isinstance(x, List[str]):\n",
    "\t\t\tx = torch.tensor(self.dataset.decoded(tuple(x)), dtype=torch.int64)\n",
    "\t\telif isinstance(x, List[int]):\n",
    "\t\t\tx = torch.tensor(x, dtype=torch.int64)\n",
    "\n",
    "\t\tif isinstance(generator, bool) and generator:\n",
    "\t\t\tgenerator = torch.Generator().manual_seed(2147483647)\n",
    "\t\telif not isinstance(generator, torch.Generator):\n",
    "\t\t\tgenerator = None\n",
    "\n",
    "\t\t#xenc = F.one_hot(x, len(self.dataset.encoded)).float()\n",
    "\t\tlogits = self.w[x]\n",
    "\t\tcount = logits.exp()\n",
    "\t\tprobs = count/count.sum(dim=1, keepdim=True)\n",
    "\t\tchoice = torch.multinomial(probs, 1, replacement=True, generator=generator).item()\n",
    "\t\treturn choice\n",
    "\t\t\n",
    "\tdef generate(self, n, generator=None):\n",
    "\t\t\"\"\" Generate n new things from the trained model. Can make it deterministic, by setting generator to True\n",
    "\t\tOtherwise can leave generator as None or provide own generator. \"\"\"\n",
    "\n",
    "\t\tif isinstance(generator, bool) and generator:\n",
    "\t\t\tgenerator = torch.Generator().manual_seed(2147483647)\n",
    "\t\telif not isinstance(generator, torch.Generator):\n",
    "\t\t\tgenerator = None\n",
    "\n",
    "\t\tfor _ in range(n):\n",
    "\t\t\tcontext = [0]*self.n\n",
    "\t\t\tword = ''\n",
    "\t\t\twhile True:\n",
    "\t\t\t\tx = torch.tensor(context, dtype=torch.int64)\n",
    "\t\t\t\t#xenc = F.one_hot(x, len(self.dataset.encoded)).float()\n",
    "\t\t\t\tlogits = self.w[x]\n",
    "\t\t\t\tcount = logits.exp()\n",
    "\t\t\t\tprobs = count/count.sum(dim=1, keepdim=True)\n",
    "\t\t\t\tchoice = torch.multinomial(probs, 1, replacement=True, generator=generator).item()\n",
    "\t\t\t\tif choice == 0:\n",
    "\t\t\t\t\tbreak\n",
    "\t\t\t\tword += self.dataset.itoc[choice]\n",
    "\t\t\t\tcontext = context[1:] + [choice]\n",
    "\t\t\tprint(word)"
   ]
  },
  {
   "cell_type": "markdown",
   "metadata": {},
   "source": [
    "Similar to the above experiments we will construct and train n-gram models for $n \\in [2,6]$"
   ]
  },
  {
   "cell_type": "code",
   "execution_count": 34,
   "metadata": {},
   "outputs": [
    {
     "name": "stdout",
     "output_type": "stream",
     "text": [
      "Loss of 2-gram neural net model: 2.4894607067108154\n",
      "Loss of 3-gram neural net model: 2.516617774963379\n",
      "Loss of 4-gram neural net model: 2.901271343231201\n",
      "Loss of 5-gram neural net model: 3.1651172637939453\n",
      "Loss of 6-gram neural net model: 3.236952066421509\n"
     ]
    }
   ],
   "source": [
    "losses = []\n",
    "dataset = Dataset(words)\n",
    "\n",
    "for i in range(1, 6):\n",
    "\tdataset.get_data(i)\n",
    "\tmodel = ngramNN(i, dataset)\n",
    "\tmodel.train(iterations=1000, start_lr=10, end_lr=0.1, reg_strength=0.01, generator=True)\n",
    "\tlosses.append(model.eval())"
   ]
  },
  {
   "cell_type": "markdown",
   "metadata": {},
   "source": [
    "We can plot the final loss of each model and see how a more complex model performs"
   ]
  },
  {
   "cell_type": "code",
   "execution_count": 38,
   "metadata": {},
   "outputs": [
    {
     "data": {
      "text/plain": [
       "[<matplotlib.axis.XTick at 0x227688db5e0>,\n",
       " <matplotlib.axis.XTick at 0x227688db5b0>,\n",
       " <matplotlib.axis.XTick at 0x227689379d0>,\n",
       " <matplotlib.axis.XTick at 0x22768948880>,\n",
       " <matplotlib.axis.XTick at 0x22768949180>]"
      ]
     },
     "execution_count": 38,
     "metadata": {},
     "output_type": "execute_result"
    },
    {
     "data": {
      "image/png": "[encoded data removed]",
      "text/plain": [
       "<Figure size 640x480 with 1 Axes>"
      ]
     },
     "metadata": {},
     "output_type": "display_data"
    }
   ],
   "source": [
    "ax = sns.lineplot(x=list(range(2, 7)), y=losses, marker=\"o\")\n",
    "ax.set(xlabel=\"n-gram model\", ylabel=\"NLL\")\n",
    "ax.set_xticks(list(range(2,7)))"
   ]
  },
  {
   "attachments": {},
   "cell_type": "markdown",
   "metadata": {},
   "source": [
    "So we can see that it is harder to train the Neural Net model, even after implementing a basic linear learning rate schedule. The more complex models also take much longer to learn. This is why going forward for the time we will only be working at most with a trigram model.\n",
    "\n",
    "Also, we will modify our dataset class to split it into a train, dev, and test sets. We can then use the train set to train, the dev set to tune the strength of our regularization parameter and finally use the test set to evaluate our final model."
   ]
  },
  {
   "cell_type": "code",
   "execution_count": 77,
   "metadata": {},
   "outputs": [],
   "source": [
    "from itertools import product\n",
    "import random\n",
    "\n",
    "class Dataset:\n",
    "    def __init__(self, data):\n",
    "        self.characterSet = set(''.join(data))\n",
    "        self.characterSet.add('.')\n",
    "        self.ctoi = {c: i for i, c in enumerate(sorted(list(self.characterSet)))}\n",
    "        self.itoc = {i: c for c, i in self.ctoi.items()}\n",
    "\n",
    "    def set_data(self, n):\n",
    "        self.encoded = {c: i for i, c in enumerate(product(sorted(list(set(self.characterSet))), repeat=n))}\n",
    "        self.decoded = lambda x: self.encoded[x]\n",
    "        self.x, self.y = [], []\n",
    "        for word in words:\n",
    "            context = [\".\"]*n\n",
    "            for char in word + \".\":\n",
    "                self.x.append(self.decoded(tuple(context)))\n",
    "                self.y.append(self.ctoi[char])\n",
    "                context = context[1:] + [char]    \n",
    "\n",
    "    def split_data(self, train_size, dev_size, test_size):\n",
    "        # make sure the dataset sizes add up to 1\n",
    "        assert train_size + dev_size + test_size == 1, \"train_size + dev_size + test_size must be 1\"\n",
    "        # generate list of shuffled indices \n",
    "        shuffled_indices = list(range(len(self.x)))\n",
    "        random.shuffle(shuffled_indices)\n",
    "\n",
    "        train_size = int(train_size * len(self.x))\n",
    "        dev_size = int(dev_size * len(self.x))\n",
    "        \n",
    "        # split the data using the shuffled indices\n",
    "        self.train_data = ([self.x[i] for i in shuffled_indices[:train_size]], [self.y[i] for i in shuffled_indices[:train_size]])\n",
    "        self.dev_data = ([self.x[i] for i in shuffled_indices[train_size:train_size+dev_size]], [self.y[i] for i in shuffled_indices[train_size:train_size+dev_size]])\n",
    "        self.test_data = ([self.x[i] for i in shuffled_indices[train_size+dev_size:]], [self.y[i] for i in shuffled_indices[train_size+dev_size:]])"
   ]
  },
  {
   "attachments": {},
   "cell_type": "markdown",
   "metadata": {},
   "source": [
    "Firstly we will split the dataset in the ratio 0.8:0.1:0.1, but not tune the regularization strength. This will give us an insight to how the model performs without any tuning."
   ]
  },
  {
   "cell_type": "code",
   "execution_count": 83,
   "metadata": {},
   "outputs": [
    {
     "name": "stdout",
     "output_type": "stream",
     "text": [
      "Loss of 2-gram neural net model: 2.479473829269409\n",
      "Loss of 2-gram neural net model: 2.495181083679199\n",
      "Loss of 3-gram neural net model: 2.528745174407959\n",
      "Loss of 3-gram neural net model: 2.5251917839050293\n"
     ]
    }
   ],
   "source": [
    "dev_set_losses = []\n",
    "test_set_losses = []\n",
    "dataset = Dataset(words)\n",
    "\n",
    "for i in range(1, 3):\n",
    "\tdataset.set_data(i)\n",
    "\tdataset.split_data(0.8, 0.1, 0.1)\n",
    "\tmodel = ngramNN(i, dataset)\n",
    "\tmodel.train(iterations=1000, start_lr=10, end_lr=0.1, reg_strength=0.01, generator=True)\n",
    "\tdev_set_losses.append(model.eval(*dataset.dev_data))\n",
    "\ttest_set_losses.append(model.eval(*dataset.test_data))"
   ]
  },
  {
   "cell_type": "code",
   "execution_count": 87,
   "metadata": {},
   "outputs": [
    {
     "data": {
      "text/plain": [
       "[<matplotlib.axis.XTick at 0x22768b0ea40>,\n",
       " <matplotlib.axis.XTick at 0x22768b0ea10>]"
      ]
     },
     "execution_count": 87,
     "metadata": {},
     "output_type": "execute_result"
    },
    {
     "data": {
      "image/png": "[encoded data removed]",
      "text/plain": [
       "<Figure size 1500x500 with 2 Axes>"
      ]
     },
     "metadata": {},
     "output_type": "display_data"
    }
   ],
   "source": [
    "import matplotlib.pyplot as plt\n",
    "\n",
    "fig, ax = plt.subplots(1, 2, figsize=(15, 5))\n",
    "sns.lineplot(x=list(range(2, 4)), y=dev_set_losses, marker=\"o\", ax=ax[0])\n",
    "ax[0].set(xlabel=\"n-gram model\", ylabel=\"NLL (dev set)\")\n",
    "ax[0].set_xticks(list(range(2,4)))\n",
    "sns.lineplot(x=list(range(2, 4)), y=test_set_losses, marker=\"o\", ax=ax[1])\n",
    "ax[1].set(xlabel=\"n-gram model\", ylabel=\"NLL (test set)\")\n",
    "ax[1].set_xticks(list(range(2,4)))"
   ]
  },
  {
   "attachments": {},
   "cell_type": "markdown",
   "metadata": {},
   "source": [
    "So we see that both the brigram and trigram models perform approximately equally on both the dev and test set. This is because in this scenario they are both acting as evaluation sets. Now we can use the dev set to tune the regulatization parameter and evaluate the final model on the test set. We will use a list of regularization strength parameter settings and see which one performs the best. Let us use values ranging from 1 to $10^{-4}$. We will also keep the learning rate constant in these experiments instead of emplying the linear learning rate schedule."
   ]
  },
  {
   "cell_type": "code",
   "execution_count": 89,
   "metadata": {},
   "outputs": [
    {
     "name": "stdout",
     "output_type": "stream",
     "text": [
      "Loss of 2-gram neural net model: 2.482201099395752\n",
      "Loss of 2-gram neural net model: 2.484097957611084\n",
      "Loss of 2-gram neural net model: 2.5030674934387207\n",
      "Loss of 2-gram neural net model: 2.6927595138549805\n",
      "Loss of 2-gram neural net model: 4.5896806716918945\n",
      "Loss of 3-gram neural net model: 2.4028775691986084\n",
      "Loss of 3-gram neural net model: 2.4038095474243164\n",
      "Loss of 3-gram neural net model: 2.413126230239868\n",
      "Loss of 3-gram neural net model: 2.5062944889068604\n",
      "Loss of 3-gram neural net model: 3.4379749298095703\n"
     ]
    },
    {
     "data": {
      "image/png": "[encoded data removed]",
      "text/plain": [
       "<Figure size 1500x500 with 2 Axes>"
      ]
     },
     "metadata": {},
     "output_type": "display_data"
    }
   ],
   "source": [
    "regularization_strengths = [10**i for i in range(-4, 1, 1)]\n",
    "dataset = Dataset(words)\n",
    "\n",
    "fig, ax = plt.subplots(1, 2, figsize=(15, 5))\n",
    "\n",
    "for i in range(1, 3):\n",
    "    dataset.set_data(i)\n",
    "    dataset.split_data(0.8, 0.1, 0.1)\n",
    "    dev_set_losses = []\n",
    "    for reg_strength in regularization_strengths:\n",
    "        model = ngramNN(i, dataset)\n",
    "        model.train(iterations=1000, start_lr=10, end_lr=10, reg_strength=reg_strength, generator=True)\n",
    "        dev_set_losses.append(model.eval(*dataset.dev_data))\n",
    "\n",
    "    sns.lineplot(x=regularization_strengths, y=dev_set_losses, marker=\"o\", ax=ax[i-1])\n",
    "    ax[i-1].set(xlabel=\"regularization strength\", ylabel=\"NLL (dev set)\")\n",
    "    ax[i-1].set_xticks(regularization_strengths)"
   ]
  },
  {
   "attachments": {},
   "cell_type": "markdown",
   "metadata": {},
   "source": [
    "As we can see from the graphs above, as we increase the regularization strength from $10^{-4}$ to 1, each model does worse. So we want to select the lowest regularization strength and use the models trained with them to evaluate our model using the test data set."
   ]
  },
  {
   "cell_type": "code",
   "execution_count": 90,
   "metadata": {},
   "outputs": [
    {
     "name": "stdout",
     "output_type": "stream",
     "text": [
      "Loss of 2-gram neural net model: 2.4687671661376953\n",
      "Loss of 3-gram neural net model: 2.386749505996704\n"
     ]
    }
   ],
   "source": [
    "for i in range(1, 3):\n",
    "    dataset.set_data(i)\n",
    "    dataset.split_data(0.8, 0.1, 0.1)\n",
    "    dev_set_losses = []\n",
    "    model = ngramNN(i, dataset)\n",
    "    model.train(iterations=1000, start_lr=10, end_lr=10, reg_strength=10**-4, generator=True)\n",
    "    model.eval(*dataset.test_data)"
   ]
  },
  {
   "attachments": {},
   "cell_type": "markdown",
   "metadata": {},
   "source": [
    "As we can see, both models perform well on the test dataset, especially the trigram model in comparison to the earlier experiments where we trained multiple n-gram models without varying the regularization strength.\n",
    "\n",
    "It is also worth noting in the Neural Net class definition, we don't use one-hot encoded vectors. Instead we just use the indices of the training data to access the row of the weight matrix.\n",
    "\n",
    "Now we want to explore the usage of the cross-entropy loss function provided instead of our calculation, and see if we can observe any differences."
   ]
  },
  {
   "cell_type": "code",
   "execution_count": 92,
   "metadata": {},
   "outputs": [],
   "source": [
    "from typing import List, Union\n",
    "\n",
    "class ngramNN:\n",
    "\t\"\"\"\n",
    "\tGeneric neural net based class for next character prediction using a single layer of 27 neurons\n",
    "\tand no activation function.\n",
    "\t\"\"\"\n",
    "\n",
    "\tdef __init__(self, n, dataset: Dataset):\n",
    "\t\t\"\"\"\n",
    "\t\tInitialize the generic neural net\n",
    "\t\tArguments:\n",
    "\t\t\tn: integer that is the size of the context\n",
    "\t\t\"\"\"\n",
    "\t\tself.n = n\n",
    "\t\tself.w = None\n",
    "\t\tself.dataset = dataset\n",
    "\n",
    "\tdef train(self, iterations: int, start_lr: float, end_lr: float, reg_strength: Union[bool, float] = 0.01, generator=None):\n",
    "\t\t\"\"\"\n",
    "\t\tMethod to train the neural net given the data and labels, how many iterations to train for, learning rate\n",
    "\t\tregularization strength.\n",
    "\t\tArguments:\n",
    "\t\t\tx_train: torch.Tensor containing all training data points for each update\n",
    "\t\t\ty_train: torch.Tensor containing all training labels for corresponding data points\n",
    "\t\t\titerations: integer for number of update steps\n",
    "\t\t\tlr: float to determine update step size\n",
    "\t\t\treg_strength: float to determine effect of regularization\n",
    "\t\t\"\"\"\n",
    "\t\tif isinstance(reg_strength, bool):\n",
    "\t\t\tif reg_strength:\n",
    "\t\t\t\tself.reg_strength = 0.01\n",
    "\t\t\telse:\n",
    "\t\t\t\tself.reg_strength = 0.0\n",
    "\t\telse:\n",
    "\t\t\tself.reg_strength = reg_strength\n",
    "\n",
    "\t\tif isinstance(generator, bool) and generator:\n",
    "\t\t\tgenerator = torch.Generator().manual_seed(2147483647)\n",
    "\t\telif not isinstance(generator, torch.Generator):\n",
    "\t\t\tgenerator = None\n",
    "\n",
    "\t\tx, y = self.dataset.train_data\n",
    "\t\tx_train, y_train = torch.tensor(x, dtype=torch.int64), torch.tensor(y, dtype=torch.int64)\n",
    "\n",
    "\t\tif not self.w:\n",
    "\t\t\tself.w = torch.randn((len(self.dataset.encoded), 27), generator=generator, dtype=torch.float32, requires_grad=True)\n",
    "\n",
    "\t\tlr = start_lr\n",
    "\t\tlr_Step = (end_lr - start_lr) / iterations\n",
    "\n",
    "\t\tfor i in range(iterations):\n",
    "\t\t\t# forward step\n",
    "\t\t\tlogits = self.w[x_train]\n",
    "\t\t\t# count = logits.exp()\n",
    "\t\t\t# probs = count / count.sum(dim=1, keepdim=True)\n",
    "\t\t\tloss = F.cross_entropy(logits, y_train) + reg_strength * (self.w.data**2).mean()\n",
    "\n",
    "\t\t\t# backward step\n",
    "\t\t\tself.w.grad = None\n",
    "\t\t\tloss.backward()\n",
    "\n",
    "\t\t\t# update step\n",
    "\t\t\tself.w.data += -lr*self.w.grad\n",
    "\t\t\tlr += lr_Step\n",
    "\n",
    "\t\t\t#print(f\"{loss=}\")\n",
    "\t\t\t\n",
    "\tdef eval(self, x = None, y = None):\n",
    "\t\t\"\"\"\n",
    "\t\tMethod to evaluate the model on given data\n",
    "\t\tArguments:\n",
    "\t\t\tx_test: torch.Tensor containing all test data\n",
    "\t\t\ty_test: torch.Tensor containing all corresponding labels\n",
    "\t\tReturns:\n",
    "\t\t\tmean negative log-likelihood of model over test data\n",
    "\t\t\"\"\"\n",
    "\t\tif not x:\n",
    "\t\t\tx, y = self.dataset.test_data\n",
    "\t\t\n",
    "\t\tx_test, y_test = torch.tensor(x, dtype=torch.int64), torch.tensor(y, dtype=torch.int64)\n",
    "\t\tlogits = self.w[x_test]\n",
    "\t\t# count = logits.exp()\n",
    "\t\t# probs = count / count.sum(dim=1, keepdim=True)\n",
    "\t\tnll = F.cross_entropy(logits, y_test)  + self.reg_strength * (self.w.data**2).mean()\n",
    "\n",
    "\t\tprint(f\"Loss of {self.n+1}-gram neural net model: {nll.item()}\")\n",
    "\t\treturn nll.item()\n",
    "\n",
    "\tdef __call__(self, x: Union[str, List[str], List[int]]):\n",
    "\t\tif isinstance(x, str):\n",
    "\t\t\tx = str.split()\n",
    "\n",
    "\t\tif isinstance(x, List[str]):\n",
    "\t\t\tx = torch.tensor(self.dataset.decoded(tuple(x)), dtype=torch.int64)\n",
    "\t\telif isinstance(x, List[int]):\n",
    "\t\t\tx = torch.tensor(x, dtype=torch.int64)\n",
    "\n",
    "\t\tif isinstance(generator, bool) and generator:\n",
    "\t\t\tgenerator = torch.Generator().manual_seed(2147483647)\n",
    "\t\telif not isinstance(generator, torch.Generator):\n",
    "\t\t\tgenerator = None\n",
    "\n",
    "\t\t#xenc = F.one_hot(x, len(self.dataset.encoded)).float()\n",
    "\t\tlogits = self.w[x]\n",
    "\t\tcount = logits.exp()\n",
    "\t\tprobs = count/count.sum(dim=1, keepdim=True)\n",
    "\t\tchoice = torch.multinomial(probs, 1, replacement=True, generator=generator).item()\n",
    "\t\treturn choice\n",
    "\t\t\n",
    "\tdef generate(self, n, generator=None):\n",
    "\t\t\"\"\" Generate n new things from the trained model. Can make it deterministic, by setting generator to True\n",
    "\t\tOtherwise can leave generator as None or provide own generator. \"\"\"\n",
    "\n",
    "\t\tif isinstance(generator, bool) and generator:\n",
    "\t\t\tgenerator = torch.Generator().manual_seed(2147483647)\n",
    "\t\telif not isinstance(generator, torch.Generator):\n",
    "\t\t\tgenerator = None\n",
    "\n",
    "\t\tfor _ in range(n):\n",
    "\t\t\tcontext = [0]*self.n\n",
    "\t\t\tword = ''\n",
    "\t\t\twhile True:\n",
    "\t\t\t\tx = torch.tensor(context, dtype=torch.int64)\n",
    "\t\t\t\t#xenc = F.one_hot(x, len(self.dataset.encoded)).float()\n",
    "\t\t\t\tlogits = self.w[x]\n",
    "\t\t\t\tcount = logits.exp()\n",
    "\t\t\t\tprobs = count/count.sum(dim=1, keepdim=True)\n",
    "\t\t\t\tchoice = torch.multinomial(probs, 1, replacement=True, generator=generator).item()\n",
    "\t\t\t\tif choice == 0:\n",
    "\t\t\t\t\tbreak\n",
    "\t\t\t\tword += self.dataset.itoc[choice]\n",
    "\t\t\t\tcontext = context[1:] + [choice]\n",
    "\t\t\tprint(word)"
   ]
  },
  {
   "cell_type": "code",
   "execution_count": 94,
   "metadata": {},
   "outputs": [
    {
     "name": "stdout",
     "output_type": "stream",
     "text": [
      "Loss of 2-gram neural net model: 2.4859840869903564\n"
     ]
    },
    {
     "data": {
      "text/plain": [
       "2.4859840869903564"
      ]
     },
     "execution_count": 94,
     "metadata": {},
     "output_type": "execute_result"
    }
   ],
   "source": [
    "dataset = Dataset(words)\n",
    "dataset.set_data(1)\n",
    "dataset.split_data(0.8, 0.1, 0.1)\n",
    "model = ngramNN(1, dataset)\n",
    "model.train(1000, 10, 10, 0.01)\n",
    "model.eval()"
   ]
  },
  {
   "attachments": {},
   "cell_type": "markdown",
   "metadata": {},
   "source": [
    "We can see that we're getting a similar result as when we calculated the loss ourselves. The adavantage of using this loss instead of our own is we do not have to get the counts matrix and normalize it to calculate the loss. This saves us computation and speeds up the training and evaluation process as the underlying code is optimized instead of the computationally intensive code we use to create new tensors for each operation."
   ]
  }
 ],
 "metadata": {
  "kernelspec": {
   "display_name": "deep_learning",
   "language": "python",
   "name": "python3"
  },
  "language_info": {
   "codemirror_mode": {
    "name": "ipython",
    "version": 3
   },
   "file_extension": ".py",
   "mimetype": "text/x-python",
   "name": "python",
   "nbconvert_exporter": "python",
   "pygments_lexer": "ipython3",
   "version": "3.10.4"
  },
  "orig_nbformat": 4,
  "vscode": {
   "interpreter": {
    "hash": "00d252c3da30e25220f8f79fbcfd806e3c2d8b8597e6db9a5f40966b2151d657"
   }
  }
 },
 "nbformat": 4,
 "nbformat_minor": 2
}
