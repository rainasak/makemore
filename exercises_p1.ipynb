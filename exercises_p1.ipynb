{
 "cells": [
  {
   "cell_type": "markdown",
   "metadata": {},
   "source": [
    "# Exercises"
   ]
  },
  {
   "cell_type": "markdown",
   "metadata": {},
   "source": [
    "<font size='4'>\n",
    "Lets start by improving on the bigram frequency model by implementing a generic n-gram model.\n",
    "</font>"
   ]
  },
  {
   "cell_type": "code",
   "execution_count": 1,
   "metadata": {},
   "outputs": [],
   "source": [
    "with open('names.txt') as f:\n",
    "\twords = f.read().splitlines()"
   ]
  },
  {
   "cell_type": "code",
   "execution_count": 2,
   "metadata": {},
   "outputs": [],
   "source": [
    "import torch"
   ]
  },
  {
   "cell_type": "code",
   "execution_count": 31,
   "metadata": {},
   "outputs": [],
   "source": [
    "class ngram:\n",
    "\t\"\"\"\n",
    "\tn-gram model using counting to train and generate new words.\n",
    "\t\"\"\"\n",
    "\n",
    "\tdef __init__(self):\n",
    "\t\t\"\"\"\n",
    "\t\tInitialize the instance by setting _train to False.\n",
    "\t\t\"\"\"\n",
    "\t\tself._train = False\n",
    "\n",
    "\tdef train(self, data, n: int = 1, smoothing: int = 0):\n",
    "\t\t\"\"\"\n",
    "\t\tMethod to train the model given a list of words, the size of the context to be used, and smoothing.\n",
    "\t\tArguments:\n",
    "\t\t\tdata: list of words to be used for training\n",
    "\t\t\tn: integer that is size of context to be used to predict next character\n",
    "\t\t\tsmoothing: integer that is false count added to all elements\n",
    "\t\tReturns:\n",
    "\t\t\tNone\n",
    "\t\t\"\"\"\n",
    "\t\tself.n = n\n",
    "\t\tself.smoothing = smoothing\n",
    "\t\tself.ctoi = {c: i+1 for i, c in enumerate(sorted(list(set(''.join(data)))))}\n",
    "\t\tself.ctoi['.'] = 0\n",
    "\t\tself.itoc = {i: c for c, i in self.ctoi.items()}\n",
    "\t\tself.context_indices = lambda x: self.ctoi[x]\n",
    "\t\tself.N = torch.zeros([len(self.ctoi)] * (n+1), dtype=torch.int32)\n",
    "\t\tself.N += smoothing\n",
    "\n",
    "\t\tfor word in data:\n",
    "\t\t\tcontext = ['.']*n\n",
    "\t\t\tfor char in word + '.':\n",
    "\t\t\t\tindices = tuple(map(self.context_indices, context))\n",
    "\t\t\t\tself.N[indices][self.ctoi[char]] += 1\n",
    "\t\t\t\tcontext = context[1:] + [char]\n",
    "\n",
    "\t\tself.P = self.N / self.N.sum(dim=n, keepdim=True)\n",
    "\t\tself._train = True\n",
    "\n",
    "\tdef eval(self, data) -> float:\n",
    "\t\t\"\"\"\n",
    "\t\tMethod to evaluate performance of the trained model using the negative log-likelihood function.\n",
    "\t\tArguments:\n",
    "\t\t\tdata: list of strings to evaluate the performance of the model on.\n",
    "\t\tReturns:\n",
    "\t\t\taverage negative log-likelihood calculated over whole dataset\n",
    "\t\t\"\"\"\n",
    "\t\tif self._train is None:\n",
    "\t\t\tprint(\"Model must be trained first\")\n",
    "\t\t\treturn\n",
    "\n",
    "\t\tnll = 0\n",
    "\t\tn = 0\n",
    "\t\tfor word in data:\n",
    "\t\t\tcontext = ['.']*self.n\n",
    "\t\t\tfor char in word + '.':\n",
    "\t\t\t\tindices = tuple(map(self.context_indices, context))\n",
    "\t\t\t\tidx = self.ctoi[char]\n",
    "\t\t\t\tp = self.P[indices] # probabilities of all characters to follow context (conditioning on context)\n",
    "\t\t\t\tnll += -torch.log(p[idx])\n",
    "\t\t\t\tn += 1\n",
    "\t\t\t\tcontext = context[1:] + [char]\n",
    "\n",
    "\t\tprint(f\"Loss of {self.n+1}-gram model with smoothing of {self.smoothing}: {nll.item()/n}\")\n",
    "\t\treturn nll.item()/n\n",
    "\n",
    "\tdef generate(self, n, generator=None):\n",
    "\t\t\"\"\" Generate n new things from the trained model. Can make it deterministic, by setting generator to True\n",
    "\t\tOtherwise can leave generator as None or provide own generator. \"\"\"\n",
    "\n",
    "\t\tif self._train is None:\n",
    "\t\t\tprint(\"Model must be trained first\")\n",
    "\t\t\treturn\n",
    "\n",
    "\t\tif isinstance(generator, bool) and generator:\n",
    "\t\t\tgenerator = torch.Generator().manual_seed(2147483647)\n",
    "\t\telif not isinstance(generator, torch.Generator):\n",
    "\t\t\tgenerator = None\n",
    "\t\t\n",
    "\t\tfor _ in range(n):\n",
    "\t\t\tcontext = ['.']*self.n\n",
    "\t\t\tword = ''\n",
    "\t\t\twhile True:\n",
    "\t\t\t\tindices = tuple(map(self.context_indices, context))\n",
    "\t\t\t\tprobs = self.P[indices]\n",
    "\t\t\t\tchoice = torch.multinomial(probs, 1, replacement=True, generator=generator).item()\n",
    "\t\t\t\tif choice == 0:\n",
    "\t\t\t\t\tbreak\n",
    "\t\t\t\tword += self.itoc[choice]\n",
    "\t\t\t\tcontext = context[1:] + [self.itoc[choice]]\n",
    "\t\t\tprint(word)"
   ]
  },
  {
   "cell_type": "markdown",
   "metadata": {},
   "source": [
    "We can now compare a bunch of n-gram models and their performance."
   ]
  },
  {
   "cell_type": "code",
   "execution_count": 32,
   "metadata": {},
   "outputs": [
    {
     "name": "stdout",
     "output_type": "stream",
     "text": [
      "Loss of 2-gram model with smoothing of 0: 2.454094088872915\n",
      "Loss of 3-gram model with smoothing of 0: 2.1856520879173864\n",
      "Loss of 4-gram model with smoothing of 0: 1.8840234159266436\n",
      "Loss of 5-gram model with smoothing of 0: 1.6055300114838744\n",
      "Loss of 6-gram model with smoothing of 0: 1.477782867111411\n"
     ]
    }
   ],
   "source": [
    "losses = []\n",
    "\n",
    "for i in range(1, 6):\n",
    "\tmodel = ngram()\n",
    "\tmodel.train(words, i)\n",
    "\tlosses.append(model.eval(words))"
   ]
  },
  {
   "cell_type": "code",
   "execution_count": 33,
   "metadata": {},
   "outputs": [
    {
     "data": {
      "text/plain": [
       "[<matplotlib.axis.XTick at 0x208ad11c7f0>,\n",
       " <matplotlib.axis.XTick at 0x208ad11c7c0>,\n",
       " <matplotlib.axis.XTick at 0x208ad1494b0>,\n",
       " <matplotlib.axis.XTick at 0x208ad149de0>,\n",
       " <matplotlib.axis.XTick at 0x208ad14a710>]"
      ]
     },
     "execution_count": 33,
     "metadata": {},
     "output_type": "execute_result"
    },
    {
     "data": {
      "image/png": "[encoded data removed]",
      "text/plain": [
       "<Figure size 640x480 with 1 Axes>"
      ]
     },
     "metadata": {},
     "output_type": "display_data"
    }
   ],
   "source": [
    "import seaborn as sns\n",
    "\n",
    "ax = sns.lineplot(x=list(range(2, 7)), y=losses, marker=\"o\")\n",
    "ax.set(xlabel=\"n-gram model\", ylabel=\"NLL\")\n",
    "ax.set_xticks(list(range(2,7)))"
   ]
  },
  {
   "cell_type": "markdown",
   "metadata": {},
   "source": [
    "We see that the larger models perform better as they have more prior information when picking the next letter. Beyond 6-gram models, the space requirements grow too large, so we're going to limit them till there."
   ]
  },
  {
   "cell_type": "markdown",
   "metadata": {},
   "source": [
    "<font size='4'>\n",
    "Lets now do the same, but use a neural network architecture. Firstly we need to construct the dataset and labels.\n",
    "</font>"
   ]
  },
  {
   "cell_type": "code",
   "execution_count": 73,
   "metadata": {},
   "outputs": [],
   "source": [
    "from itertools import product\n",
    "\n",
    "class Dataset:\n",
    "\tdef __init__(self, data, n):\n",
    "\t\tcharacterSet = set(''.join(data))\n",
    "\t\tcharacterSet.add('.')\n",
    "\t\tself.ctoi = {c: i for i, c in enumerate(sorted(list(characterSet)))}\n",
    "\t\tself.itoc = {i: c for c, i in self.ctoi.items()}\n",
    "\t\tself.encoded = {c: i for i, c in enumerate(product(sorted(list(set(characterSet))), repeat=n))}\n",
    "\t\tself.decoded = lambda x: self.encoded[x]\n",
    "\t\tself.x, self.y = [], []\n",
    "\t\tfor word in words:\n",
    "\t\t\tcontext = [\".\"]*n\n",
    "\t\t\tfor char in word + \".\":\n",
    "\t\t\t\tself.x.append(self.decoded(tuple(context)))\n",
    "\t\t\t\tself.y.append(self.ctoi[char])\n",
    "\t\t\t\tcontext = context[1:] + [char]"
   ]
  },
  {
   "cell_type": "code",
   "execution_count": 81,
   "metadata": {},
   "outputs": [
    {
     "data": {
      "text/plain": [
       "228146"
      ]
     },
     "execution_count": 81,
     "metadata": {},
     "output_type": "execute_result"
    }
   ],
   "source": [
    "dataset = Dataset(words, 2)\n",
    "len(torch.tensor(dataset.x, dtype=torch.int64))\n"
   ]
  },
  {
   "cell_type": "markdown",
   "metadata": {},
   "source": [
    "We now need create a generalized one layer neural net without an activation function."
   ]
  },
  {
   "cell_type": "code",
   "execution_count": 35,
   "metadata": {},
   "outputs": [],
   "source": [
    "import torch.nn.functional as F"
   ]
  },
  {
   "cell_type": "code",
   "execution_count": 85,
   "metadata": {},
   "outputs": [],
   "source": [
    "from typing import List, Union\n",
    "\n",
    "class ngramNN:\n",
    "\t\"\"\"\n",
    "\tGeneric neural net based class for next character prediction using a single layer of 27 neurons\n",
    "\tand no activation function.\n",
    "\t\"\"\"\n",
    "\n",
    "\tdef __init__(self, n, dataset: Dataset):\n",
    "\t\t\"\"\"\n",
    "\t\tInitialize the generic neural net\n",
    "\t\tArguments:\n",
    "\t\t\tn: integer that is the size of the context\n",
    "\t\t\"\"\"\n",
    "\t\tself.n = n\n",
    "\t\tself.w = None\n",
    "\t\tself.dataset = dataset\n",
    "\n",
    "\tdef train(self, iterations: int, lr: float, reg_strength: Union[bool, float] = 0.01, generator=None):\n",
    "\t\t\"\"\"\n",
    "\t\tMethod to train the neural net given the data and labels, how many iterations to train for, learning rate\n",
    "\t\tregularization strength.\n",
    "\t\tArguments:\n",
    "\t\t\tx_train: torch.Tensor containing all training data points for each update\n",
    "\t\t\ty_train: torch.Tensor containing all training labels for corresponding data points\n",
    "\t\t\titerations: integer for number of update steps\n",
    "\t\t\tlr: float to determine update step size\n",
    "\t\t\treg_strength: float to determine effect of regularization\n",
    "\t\t\"\"\"\n",
    "\t\tif isinstance(reg_strength, bool):\n",
    "\t\t\tif reg_strength:\n",
    "\t\t\t\treg_strength = 0.01\n",
    "\t\t\telse:\n",
    "\t\t\t\treg_strength = 0.0\n",
    "\n",
    "\t\tif isinstance(generator, bool) and generator:\n",
    "\t\t\tgenerator = torch.Generator().manual_seed(2147483647)\n",
    "\t\telif not isinstance(generator, torch.Generator):\n",
    "\t\t\tgenerator = None\n",
    "\n",
    "\t\tx_train, y_train = torch.tensor(self.dataset.x, dtype=torch.int64), torch.tensor(self.dataset.y, dtype=torch.int64)\n",
    "\t\t#xenc = F.one_hot(x_train, len(self.dataset.encoded)).float()\n",
    "\n",
    "\t\tif not self.w:\n",
    "\t\t\tself.w = torch.randn((len(self.dataset.encoded), 27), generator=generator, dtype=torch.float32, requires_grad=True)\n",
    "\n",
    "\t\tfor _ in range(iterations):\n",
    "\t\t\t# forward step\n",
    "\t\t\tlogits = self.w[x_train]\n",
    "\t\t\tcount = logits.exp()\n",
    "\t\t\tprobs = count / count.sum(dim=1, keepdim=True)\n",
    "\t\t\tloss = -probs[torch.arange(y_train.nelement()), y_train].log().mean() + reg_strength * (self.w.data**2).mean()\n",
    "\n",
    "\t\t\t# backward step\n",
    "\t\t\tself.w.grad = None\n",
    "\t\t\tloss.backward()\n",
    "\n",
    "\t\t\t# update step\n",
    "\t\t\tself.w.data += -lr*self.w.grad\n",
    "\n",
    "\t\t\t#print(f\"{loss=}\")\n",
    "\t\t\t\n",
    "\tdef eval(self, x_test = None, y_test = None):\n",
    "\t\t\"\"\"\n",
    "\t\tMethod to evaluate the model on given data\n",
    "\t\tArguments:\n",
    "\t\t\tx_test: torch.Tensor containing all test data\n",
    "\t\t\ty_test: torch.Tensor containing all corresponding labels\n",
    "\t\tReturns:\n",
    "\t\t\tmean negative log-likelihood of model over test data\n",
    "\t\t\"\"\"\n",
    "\t\tif not x_test:\n",
    "\t\t\tx_test, y_test = torch.tensor(self.dataset.x, dtype=torch.int64), torch.tensor(self.dataset.y, dtype=torch.int64)\n",
    "\t\t#xenc = F.one_hot(x_test, len(self.dataset.encoded)).float()\n",
    "\t\tlogits = self.w[x_test]\n",
    "\t\tcount = logits.exp()\n",
    "\t\tprobs = count / count.sum(dim=1, keepdim=True)\n",
    "\t\tnll = -probs[torch.arange(y_test.nelement()), y_test].log().mean()\n",
    "\n",
    "\t\tprint(f\"Loss of {self.n+1}-gram neural net model: {nll.item()}\")\n",
    "\t\treturn nll.item()\n",
    "\n",
    "\tdef __call__(self, x: Union[str, List[str], List[int]]):\n",
    "\t\tif isinstance(x, str):\n",
    "\t\t\tx = str.split()\n",
    "\n",
    "\t\tif isinstance(x, List[str]):\n",
    "\t\t\tx = torch.tensor(self.dataset.decoded(tuple(x)), dtype=torch.int64)\n",
    "\t\telif isinstance(x, List[int]):\n",
    "\t\t\tx = torch.tensor(x, dtype=torch.int64)\n",
    "\n",
    "\t\t#xenc = F.one_hot(x, len(self.dataset.encoded)).float()\n",
    "\t\tlogits = self.w[x]\n",
    "\t\tcount = logits.exp()\n",
    "\t\tprobs = count/count.sum(dim=1, keepdim=True)\n",
    "\t\treturn probs\n",
    "\t\t\n",
    "\tdef generate(self, n, generator=None):\n",
    "\t\t\"\"\" Generate n new things from the trained model. Can make it deterministic, by setting generator to True\n",
    "\t\tOtherwise can leave generator as None or provide own generator. \"\"\"\n",
    "\n",
    "\t\tif isinstance(generator, bool) and generator:\n",
    "\t\t\tgenerator = torch.Generator().manual_seed(2147483647)\n",
    "\t\telif not isinstance(generator, torch.Generator):\n",
    "\t\t\tgenerator = None\n",
    "\n",
    "\t\tfor _ in range(n):\n",
    "\t\t\tcontext = [0]*self.n\n",
    "\t\t\tword = ''\n",
    "\t\t\twhile True:\n",
    "\t\t\t\tx = torch.tensor(context, dtype=torch.int64)\n",
    "\t\t\t\t#xenc = F.one_hot(x, len(self.dataset.encoded)).float()\n",
    "\t\t\t\tlogits = self.w[x]\n",
    "\t\t\t\tcount = logits.exp()\n",
    "\t\t\t\tprobs = count/count.sum(dim=1, keepdim=True)\n",
    "\t\t\t\tchoice = torch.multinomial(probs, 1, replacement=True, generator=generator).item()\n",
    "\t\t\t\tif choice == 0:\n",
    "\t\t\t\t\tbreak\n",
    "\t\t\t\tword += self.dataset.itoc[choice]\n",
    "\t\t\t\tcontext = context[1:] + [choice]\n",
    "\t\t\tprint(word)"
   ]
  },
  {
   "cell_type": "markdown",
   "metadata": {},
   "source": [
    "Similar to the above experiments we will construct and train n-gram models for $n \\in [2,6]$"
   ]
  },
  {
   "cell_type": "code",
   "execution_count": 87,
   "metadata": {},
   "outputs": [
    {
     "name": "stdout",
     "output_type": "stream",
     "text": [
      "Loss of 2-gram neural net model: 2.4623842239379883\n",
      "Loss of 3-gram neural net model: 2.3817245960235596\n",
      "Loss of 4-gram neural net model: 2.6849074363708496\n",
      "Loss of 5-gram neural net model: 2.995709180831909\n"
     ]
    },
    {
     "ename": "KeyboardInterrupt",
     "evalue": "",
     "output_type": "error",
     "traceback": [
      "\u001b[1;31m---------------------------------------------------------------------------\u001b[0m",
      "\u001b[1;31mKeyboardInterrupt\u001b[0m                         Traceback (most recent call last)",
      "\u001b[1;32mc:\\Users\\Saksham\\OneDrive\\Documents\\Study\\ML\\Code\\makemore\\exercises_p1.ipynb Cell 17\u001b[0m in \u001b[0;36m<cell line: 3>\u001b[1;34m()\u001b[0m\n\u001b[0;32m      <a href='vscode-notebook-cell:/c%3A/Users/Saksham/OneDrive/Documents/Study/ML/Code/makemore/exercises_p1.ipynb#X21sZmlsZQ%3D%3D?line=3'>4</a>\u001b[0m dataset \u001b[39m=\u001b[39m Dataset(words, i)\n\u001b[0;32m      <a href='vscode-notebook-cell:/c%3A/Users/Saksham/OneDrive/Documents/Study/ML/Code/makemore/exercises_p1.ipynb#X21sZmlsZQ%3D%3D?line=4'>5</a>\u001b[0m model \u001b[39m=\u001b[39m ngramNN(i, dataset)\n\u001b[1;32m----> <a href='vscode-notebook-cell:/c%3A/Users/Saksham/OneDrive/Documents/Study/ML/Code/makemore/exercises_p1.ipynb#X21sZmlsZQ%3D%3D?line=5'>6</a>\u001b[0m model\u001b[39m.\u001b[39;49mtrain(iterations\u001b[39m=\u001b[39;49m\u001b[39m1000\u001b[39;49m, lr\u001b[39m=\u001b[39;49m\u001b[39m10\u001b[39;49m, reg_strength\u001b[39m=\u001b[39;49m\u001b[39m0.01\u001b[39;49m, generator\u001b[39m=\u001b[39;49m\u001b[39mTrue\u001b[39;49;00m)\n\u001b[0;32m      <a href='vscode-notebook-cell:/c%3A/Users/Saksham/OneDrive/Documents/Study/ML/Code/makemore/exercises_p1.ipynb#X21sZmlsZQ%3D%3D?line=6'>7</a>\u001b[0m losses\u001b[39m.\u001b[39mappend(model\u001b[39m.\u001b[39meval())\n",
      "\u001b[1;32mc:\\Users\\Saksham\\OneDrive\\Documents\\Study\\ML\\Code\\makemore\\exercises_p1.ipynb Cell 17\u001b[0m in \u001b[0;36mngramNN.train\u001b[1;34m(self, iterations, lr, reg_strength, generator)\u001b[0m\n\u001b[0;32m     <a href='vscode-notebook-cell:/c%3A/Users/Saksham/OneDrive/Documents/Study/ML/Code/makemore/exercises_p1.ipynb#X21sZmlsZQ%3D%3D?line=49'>50</a>\u001b[0m count \u001b[39m=\u001b[39m logits\u001b[39m.\u001b[39mexp()\n\u001b[0;32m     <a href='vscode-notebook-cell:/c%3A/Users/Saksham/OneDrive/Documents/Study/ML/Code/makemore/exercises_p1.ipynb#X21sZmlsZQ%3D%3D?line=50'>51</a>\u001b[0m probs \u001b[39m=\u001b[39m count \u001b[39m/\u001b[39m count\u001b[39m.\u001b[39msum(dim\u001b[39m=\u001b[39m\u001b[39m1\u001b[39m, keepdim\u001b[39m=\u001b[39m\u001b[39mTrue\u001b[39;00m)\n\u001b[1;32m---> <a href='vscode-notebook-cell:/c%3A/Users/Saksham/OneDrive/Documents/Study/ML/Code/makemore/exercises_p1.ipynb#X21sZmlsZQ%3D%3D?line=51'>52</a>\u001b[0m loss \u001b[39m=\u001b[39m \u001b[39m-\u001b[39mprobs[torch\u001b[39m.\u001b[39marange(y_train\u001b[39m.\u001b[39mnelement()), y_train]\u001b[39m.\u001b[39mlog()\u001b[39m.\u001b[39mmean() \u001b[39m+\u001b[39m reg_strength \u001b[39m*\u001b[39m (\u001b[39mself\u001b[39;49m\u001b[39m.\u001b[39;49mw\u001b[39m.\u001b[39;49mdata\u001b[39m*\u001b[39;49m\u001b[39m*\u001b[39;49m\u001b[39m2\u001b[39;49m)\u001b[39m.\u001b[39mmean()\n\u001b[0;32m     <a href='vscode-notebook-cell:/c%3A/Users/Saksham/OneDrive/Documents/Study/ML/Code/makemore/exercises_p1.ipynb#X21sZmlsZQ%3D%3D?line=53'>54</a>\u001b[0m \u001b[39m# backward step\u001b[39;00m\n\u001b[0;32m     <a href='vscode-notebook-cell:/c%3A/Users/Saksham/OneDrive/Documents/Study/ML/Code/makemore/exercises_p1.ipynb#X21sZmlsZQ%3D%3D?line=54'>55</a>\u001b[0m \u001b[39mself\u001b[39m\u001b[39m.\u001b[39mw\u001b[39m.\u001b[39mgrad \u001b[39m=\u001b[39m \u001b[39mNone\u001b[39;00m\n",
      "File \u001b[1;32mc:\\Users\\Saksham\\.conda\\envs\\deep_learning\\lib\\site-packages\\torch\\_tensor.py:32\u001b[0m, in \u001b[0;36m_handle_torch_function_and_wrap_type_error_to_not_implemented.<locals>.wrapped\u001b[1;34m(*args, **kwargs)\u001b[0m\n\u001b[0;32m     30\u001b[0m     \u001b[39mif\u001b[39;00m has_torch_function(args):\n\u001b[0;32m     31\u001b[0m         \u001b[39mreturn\u001b[39;00m handle_torch_function(wrapped, args, \u001b[39m*\u001b[39margs, \u001b[39m*\u001b[39m\u001b[39m*\u001b[39mkwargs)\n\u001b[1;32m---> 32\u001b[0m     \u001b[39mreturn\u001b[39;00m f(\u001b[39m*\u001b[39margs, \u001b[39m*\u001b[39m\u001b[39m*\u001b[39mkwargs)\n\u001b[0;32m     33\u001b[0m \u001b[39mexcept\u001b[39;00m \u001b[39mTypeError\u001b[39;00m:\n\u001b[0;32m     34\u001b[0m     \u001b[39mreturn\u001b[39;00m \u001b[39mNotImplemented\u001b[39m\n",
      "\u001b[1;31mKeyboardInterrupt\u001b[0m: "
     ]
    }
   ],
   "source": [
    "losses = []\n",
    "\n",
    "for i in range(1, 6):\n",
    "\tdataset = Dataset(words, i)\n",
    "\tmodel = ngramNN(i, dataset)\n",
    "\tmodel.train(iterations=1000, lr=10, reg_strength=0.01, generator=True)\n",
    "\tlosses.append(model.eval())"
   ]
  },
  {
   "cell_type": "markdown",
   "metadata": {},
   "source": [
    "We can plot the final loss of each model and see how a more complex model performs"
   ]
  },
  {
   "cell_type": "code",
   "execution_count": 89,
   "metadata": {},
   "outputs": [
    {
     "data": {
      "text/plain": [
       "[<matplotlib.axis.XTick at 0x208afd51120>,\n",
       " <matplotlib.axis.XTick at 0x208afd510f0>,\n",
       " <matplotlib.axis.XTick at 0x208afd59c30>,\n",
       " <matplotlib.axis.XTick at 0x208afd5a6e0>,\n",
       " <matplotlib.axis.XTick at 0x208afd5ae00>]"
      ]
     },
     "execution_count": 89,
     "metadata": {},
     "output_type": "execute_result"
    },
    {
     "data": {
      "image/png": "[encoded data removed]",
      "text/plain": [
       "<Figure size 640x480 with 1 Axes>"
      ]
     },
     "metadata": {},
     "output_type": "display_data"
    }
   ],
   "source": [
    "ax = sns.lineplot(x=list(range(2, 6)), y=losses, marker=\"o\")\n",
    "ax.set(xlabel=\"n-gram model\", ylabel=\"NLL\")\n",
    "ax.set_xticks(list(range(2,7)))"
   ]
  }
 ],
 "metadata": {
  "kernelspec": {
   "display_name": "Python 3.10.4 ('deep_learning')",
   "language": "python",
   "name": "python3"
  },
  "language_info": {
   "codemirror_mode": {
    "name": "ipython",
    "version": 3
   },
   "file_extension": ".py",
   "mimetype": "text/x-python",
   "name": "python",
   "nbconvert_exporter": "python",
   "pygments_lexer": "ipython3",
   "version": "3.10.4"
  },
  "orig_nbformat": 4,
  "vscode": {
   "interpreter": {
    "hash": "69ee4889618ee12a68687ed0f9c9fef55faae0e739ba1b27ff003f6ee9665cdf"
   }
  }
 },
 "nbformat": 4,
 "nbformat_minor": 2
}
