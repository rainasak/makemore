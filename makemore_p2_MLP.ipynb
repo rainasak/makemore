{
 "cells": [
  {
   "attachments": {},
   "cell_type": "markdown",
   "metadata": {},
   "source": [
    "In this notebook, we are going to continue from the previous one where we had developed a simple linear neural net model for our character prediction task. In fact you could go far as saying that the previous notebook implemented a simple mapping of our context to probabilities of the next character, which we labelled our weight matrix, and which we then attempted to optimize using backprop using the negative log likelihood loss function. But a mistake with this mapping approach was that as our context size grew, that caused our matrix to grow exponentially, as each unique encoding was represented as a row. This meant that the matrix grew at a rate of $27^n$ where $n$ was the size of the context.\n",
    "\n",
    "Therefore, in this notebook we try to rectify these issues by being smarter about our representation, and adding a hidden layer with non-linearity. This approach is inspired and attempts to closely follow the Bengio et al 2003 paper (https://www.jmlr.org/papers/volume3/bengio03a/bengio03a.pdf). Thus, we will look to introduce an embedding matrix for our vocabulary (in our case that is 27 characters), that will map each word (character) to a $d$ dimensional space. Depending on the choice of context size ($n$), we will concatenate these $n$ vectors to produce a single input vector. This input vector will then be fed to the non-linear layer which will be made of $n_{in}$ neurons. The output of this hidden layer will be fed to a final layer that will be the size of our vocabulary so we can make a prediction. The output of this layer has to be passed through a softmax function to give proper probabilities for all options from our vocabulary. \n",
    "\n",
    "The output can then be used to calculate the loss using the negative log likelihood, and backprop can be used to optimize the parameters of the network and produce a better fitted model. It is worth noting that we have a few hyperparameters in this scenario including the context size, the dimensionality of the embedding space, the number of neurons in the hidden layer, the learning rate."
   ]
  },
  {
   "cell_type": "code",
   "execution_count": 1,
   "metadata": {},
   "outputs": [
    {
     "data": {
      "text/plain": [
       "32033"
      ]
     },
     "execution_count": 1,
     "metadata": {},
     "output_type": "execute_result"
    }
   ],
   "source": [
    "# read in our data\n",
    "with open('names.txt') as f:\n",
    "    words = f.read().splitlines()\n",
    "\n",
    "len(words)"
   ]
  },
  {
   "cell_type": "code",
   "execution_count": 2,
   "metadata": {},
   "outputs": [],
   "source": [
    "# create a dictionary of all the characters in our dataset\n",
    "chars = set(''.join(words))\n",
    "ctoi = {c: i+1 for i, c in enumerate(chars)}\n",
    "ctoi['.'] = 0\n",
    "itoc = {i: c for c, i in ctoi.items()}"
   ]
  },
  {
   "cell_type": "code",
   "execution_count": 3,
   "metadata": {},
   "outputs": [],
   "source": [
    "# create a function to shuffle, split, and build the dataset into a training, validation, and test set\n",
    "\n",
    "import random\n",
    "import torch\n",
    "import matplotlib.pyplot as plt\n",
    "\n",
    "random.seed(42) # set the random seed for reproducibility\n",
    "random.shuffle(words)\n",
    "\n",
    "def split_dataset(train_size=0.8, val_size=0.1, test_size=0.1):\n",
    "    assert train_size + val_size + test_size == 1, 'train_size + val_size + test_size must equal 1'\n",
    "    train_idx = int(len(words) * train_size)\n",
    "    val_idx = int(len(words) * (train_size+val_size))\n",
    "    return words[:train_idx], words[train_idx:val_idx], words[val_idx:]\n",
    "\n",
    "def build_dataset(dataset, n=3):\n",
    "    X, Y = [], []\n",
    "    for word in dataset:\n",
    "        context = [0] * n\n",
    "        for c in word + '.':\n",
    "            X.append(context)\n",
    "            Y.append(ctoi[c])\n",
    "            context = context[1:] + [ctoi[c]]\n",
    "\n",
    "    return torch.tensor(X), torch.tensor(Y)"
   ]
  },
  {
   "cell_type": "code",
   "execution_count": 4,
   "metadata": {},
   "outputs": [],
   "source": [
    "# generate out datasets\n",
    "train_dataset, val_dataset, test_dataset = split_dataset()\n",
    "train_X, train_Y = build_dataset(train_dataset, n=3)\n",
    "val_X, val_Y = build_dataset(val_dataset, n=3)\n",
    "test_X, test_Y = build_dataset(test_dataset, n=3)"
   ]
  },
  {
   "cell_type": "code",
   "execution_count": 5,
   "metadata": {},
   "outputs": [],
   "source": [
    "# initialize our parameters\n",
    "def init_params(emb_dims, hidden_neurons, context_size, vocab_size):\n",
    "    g = torch.Generator().manual_seed(2147483647)\n",
    "    C = torch.randn((vocab_size, emb_dims), generator=g)\n",
    "    W1 = torch.randn((emb_dims*context_size, hidden_neurons), generator=g)\n",
    "    b1 = torch.randn(hidden_neurons, generator=g)\n",
    "    W2 = torch.randn((hidden_neurons, vocab_size), generator=g)\n",
    "    b2 = torch.randn(vocab_size, generator=g)\n",
    "    return [C, W1, b1, W2, b2]"
   ]
  },
  {
   "cell_type": "code",
   "execution_count": 6,
   "metadata": {},
   "outputs": [],
   "source": [
    "# initialize our parameters and set requires_grad to True\n",
    "params = init_params(emb_dims=10, hidden_neurons=300, context_size=3, vocab_size=len(ctoi))\n",
    "\n",
    "for param in params:\n",
    "    param.requires_grad = True\n",
    "\n",
    "C, W1, b1, W2, b2 = params"
   ]
  },
  {
   "cell_type": "code",
   "execution_count": 7,
   "metadata": {},
   "outputs": [
    {
     "name": "stdout",
     "output_type": "stream",
     "text": [
      "Total number of parameters: 17697\n"
     ]
    }
   ],
   "source": [
    "print(f'Total number of parameters: {sum(param.nelement() for param in params)}')"
   ]
  },
  {
   "cell_type": "code",
   "execution_count": 8,
   "metadata": {},
   "outputs": [],
   "source": [
    "# init arrays to monitor stats\n",
    "train_losses = []\n",
    "val_losses = []"
   ]
  },
  {
   "cell_type": "code",
   "execution_count": 9,
   "metadata": {},
   "outputs": [],
   "source": [
    "batch_size = 32\n",
    "\n",
    "lr = 0.1\n",
    "\n",
    "reg_strength = 0\n",
    "\n",
    "epochs = 40\n",
    "\n",
    "max_steps = train_X.shape[0] // batch_size"
   ]
  },
  {
   "cell_type": "code",
   "execution_count": 10,
   "metadata": {},
   "outputs": [
    {
     "name": "stdout",
     "output_type": "stream",
     "text": [
      "Epoch: 1, Train Loss: 3.8534, Val Loss: 2.8652\n",
      "Epoch: 2, Train Loss: 2.7021, Val Loss: 2.6152\n",
      "Epoch: 3, Train Loss: 2.6307, Val Loss: 2.5876\n",
      "Epoch: 4, Train Loss: 2.4149, Val Loss: 2.4340\n",
      "Epoch: 5, Train Loss: 2.4370, Val Loss: 2.6276\n",
      "Epoch: 6, Train Loss: 2.2664, Val Loss: 2.4633\n",
      "Epoch: 7, Train Loss: 2.6941, Val Loss: 2.4237\n",
      "Epoch: 8, Train Loss: 2.5056, Val Loss: 2.3875\n",
      "Epoch: 9, Train Loss: 2.3287, Val Loss: 2.3902\n",
      "Epoch: 10, Train Loss: 2.4607, Val Loss: 2.3660\n",
      "Epoch: 11, Train Loss: 2.4129, Val Loss: 2.4226\n",
      "Epoch: 12, Train Loss: 2.1833, Val Loss: 2.3238\n",
      "Epoch: 13, Train Loss: 1.8875, Val Loss: 2.3440\n",
      "Epoch: 14, Train Loss: 1.9650, Val Loss: 2.3748\n",
      "Epoch: 15, Train Loss: 2.0984, Val Loss: 2.3780\n",
      "Epoch: 16, Train Loss: 2.0020, Val Loss: 2.3629\n",
      "Epoch: 17, Train Loss: 2.4816, Val Loss: 2.2827\n",
      "Epoch: 18, Train Loss: 1.9055, Val Loss: 2.2935\n",
      "Epoch: 19, Train Loss: 2.3624, Val Loss: 2.2518\n",
      "Epoch: 20, Train Loss: 2.3753, Val Loss: 2.2618\n",
      "Epoch: 21, Train Loss: 2.1467, Val Loss: 2.1452\n",
      "Epoch: 22, Train Loss: 2.3343, Val Loss: 2.1421\n",
      "Epoch: 23, Train Loss: 2.3292, Val Loss: 2.1406\n",
      "Epoch: 24, Train Loss: 2.3470, Val Loss: 2.1395\n",
      "Epoch: 25, Train Loss: 1.7860, Val Loss: 2.1374\n",
      "Epoch: 26, Train Loss: 2.1562, Val Loss: 2.1410\n",
      "Epoch: 27, Train Loss: 2.1810, Val Loss: 2.1392\n",
      "Epoch: 28, Train Loss: 2.2234, Val Loss: 2.1370\n",
      "Epoch: 29, Train Loss: 1.8148, Val Loss: 2.1353\n",
      "Epoch: 30, Train Loss: 1.9813, Val Loss: 2.1379\n",
      "Epoch: 31, Train Loss: 2.4076, Val Loss: 2.1400\n",
      "Epoch: 32, Train Loss: 1.9556, Val Loss: 2.1384\n",
      "Epoch: 33, Train Loss: 2.1752, Val Loss: 2.1366\n",
      "Epoch: 34, Train Loss: 2.1215, Val Loss: 2.1338\n",
      "Epoch: 35, Train Loss: 2.2607, Val Loss: 2.1340\n",
      "Epoch: 36, Train Loss: 2.3543, Val Loss: 2.1322\n",
      "Epoch: 37, Train Loss: 2.2830, Val Loss: 2.1310\n",
      "Epoch: 38, Train Loss: 2.2323, Val Loss: 2.1341\n",
      "Epoch: 39, Train Loss: 2.6259, Val Loss: 2.1344\n",
      "Epoch: 40, Train Loss: 2.2900, Val Loss: 2.1328\n"
     ]
    },
    {
     "data": {
      "text/plain": [
       "[<matplotlib.lines.Line2D at 0x154c1ec9510>]"
      ]
     },
     "execution_count": 10,
     "metadata": {},
     "output_type": "execute_result"
    },
    {
     "data": {
      "image/png": "[encoded data removed]",
      "text/plain": [
       "<Figure size 640x480 with 1 Axes>"
      ]
     },
     "metadata": {},
     "output_type": "display_data"
    }
   ],
   "source": [
    "for epoch in range(epochs):\n",
    "    if epoch == epochs//2:\n",
    "        lr /= 10\n",
    "    for step in range(0, max_steps):\n",
    "        idx = torch.randint(0, train_X.shape[0], (batch_size,))\n",
    "        emb = C[train_X[idx]].view(batch_size, -1)\n",
    "        h = torch.tanh(emb @ W1 + b1)\n",
    "        logits = h @ W2 + b2\n",
    "\n",
    "        loss = torch.nn.functional.cross_entropy(logits, train_Y[idx]) + reg_strength * sum((param.data**2).mean() for param in params)\n",
    "\n",
    "        for param in params:\n",
    "            param.grad = None\n",
    "\n",
    "        loss.backward()\n",
    "\n",
    "        for param in params:\n",
    "            param.data -= lr * param.grad\n",
    "\n",
    "    train_losses.append(loss.item())\n",
    "\n",
    "    with torch.no_grad():\n",
    "        emb = C[val_X].view(val_X.shape[0], -1)\n",
    "        h = torch.tanh(emb @ W1 + b1)\n",
    "        logits = h @ W2 + b2\n",
    "\n",
    "        loss = torch.nn.functional.cross_entropy(logits, val_Y) + reg_strength * sum((param.data**2).mean() for param in params)\n",
    "        val_losses.append(loss.item())\n",
    "\n",
    "    print(f'Epoch: {epoch+1}, Train Loss: {train_losses[-1]:.4f}, Val Loss: {val_losses[-1]:.4f}')\n",
    "\n",
    "# plot the training and validation loss\n",
    "plt.plot(train_losses, label='Training Loss')\n",
    "plt.plot(val_losses, label='Validation Loss')"
   ]
  },
  {
   "cell_type": "code",
   "execution_count": 22,
   "metadata": {},
   "outputs": [
    {
     "data": {
      "text/plain": [
       "tensor(2.1328, grad_fn=<NllLossBackward0>)"
      ]
     },
     "execution_count": 22,
     "metadata": {},
     "output_type": "execute_result"
    }
   ],
   "source": [
    "emb = C[val_X].view(val_X.shape[0], -1)\n",
    "h = torch.tanh(emb @ W1 + b1)\n",
    "logits = h @ W2 + b2\n",
    "loss = torch.nn.functional.cross_entropy(logits, val_Y)\n",
    "loss"
   ]
  },
  {
   "cell_type": "code",
   "execution_count": 23,
   "metadata": {},
   "outputs": [
    {
     "data": {
      "text/plain": [
       "tensor(2.1330, grad_fn=<NllLossBackward0>)"
      ]
     },
     "execution_count": 23,
     "metadata": {},
     "output_type": "execute_result"
    }
   ],
   "source": [
    "emb = C[test_X].view(test_X.shape[0], -1)\n",
    "h = torch.tanh(emb @ W1 + b1)\n",
    "logits = h @ W2 + b2\n",
    "loss = torch.nn.functional.cross_entropy(logits, test_Y)\n",
    "loss"
   ]
  },
  {
   "attachments": {},
   "cell_type": "markdown",
   "metadata": {},
   "source": [
    "We can also view the embeddings when we use $d = 2$"
   ]
  },
  {
   "cell_type": "code",
   "execution_count": 24,
   "metadata": {},
   "outputs": [
    {
     "data": {
      "image/png": "[encoded data removed]",
      "text/plain": [
       "<Figure size 1000x1000 with 1 Axes>"
      ]
     },
     "metadata": {},
     "output_type": "display_data"
    }
   ],
   "source": [
    "plt.figure(figsize=(10, 10))\n",
    "plt.scatter(C[:, 0].data, C[:, 1].data, s=200)\n",
    "\n",
    "for i in range(C.shape[0]):\n",
    "    plt.annotate(itoc[i], (C[i, 0].data, C[i, 1].data), ha=\"center\", va=\"center\")"
   ]
  },
  {
   "cell_type": "code",
   "execution_count": 25,
   "metadata": {},
   "outputs": [
    {
     "name": "stdout",
     "output_type": "stream",
     "text": [
      "enslei\n",
      "vid\n",
      "naren\n",
      "duri\n",
      "nan\n",
      "emnette\n",
      "mestina\n",
      "davlarone\n",
      "abvin\n",
      "stianna\n"
     ]
    }
   ],
   "source": [
    "generator = torch.Generator().manual_seed(2147483647 + 10)\n",
    "\n",
    "for _ in range(10):\n",
    "    context = [0]*3\n",
    "    word = ''\n",
    "    while True:\n",
    "        emb = C[torch.tensor(context)]\n",
    "        h = torch.tanh(emb.view(1, -1) @ W1 + b1)\n",
    "        logits = h @ W2 + b2\n",
    "        p = torch.nn.functional.softmax(logits, dim=1)\n",
    "        c = torch.multinomial(p, num_samples=1, generator=generator).item()\n",
    "        if c == 0:\n",
    "            break\n",
    "        word += itoc[c]\n",
    "        context = context[1:] + [c]\n",
    "    print(word)"
   ]
  }
 ],
 "metadata": {
  "kernelspec": {
   "display_name": "deep_learning",
   "language": "python",
   "name": "python3"
  },
  "language_info": {
   "codemirror_mode": {
    "name": "ipython",
    "version": 3
   },
   "file_extension": ".py",
   "mimetype": "text/x-python",
   "name": "python",
   "nbconvert_exporter": "python",
   "pygments_lexer": "ipython3",
   "version": "3.10.4"
  },
  "orig_nbformat": 4,
  "vscode": {
   "interpreter": {
    "hash": "00d252c3da30e25220f8f79fbcfd806e3c2d8b8597e6db9a5f40966b2151d657"
   }
  }
 },
 "nbformat": 4,
 "nbformat_minor": 2
}
